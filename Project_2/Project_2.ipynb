{
 "cells": [
  {
   "cell_type": "markdown",
   "id": "1a354ac9-5507-4d31-8144-bccb9b83849c",
   "metadata": {},
   "source": [
    "Introduction\n",
    "In this project, you will build a neural network of your own design to evaluate the MNIST dataset.\n",
    "\n",
    "Some of the benchmark results on MNIST include can be found on Yann LeCun's page and include:\n",
    "\n",
    "88% Lecun et al., 1998\n",
    "\n",
    "95.3% Lecun et al., 1998\n",
    "\n",
    "99.65% Ciresan et al., 2011\n",
    "\n",
    "MNIST is a great dataset for sanity checking your models, since the accuracy levels achieved by large convolutional neural networks and small linear models are both quite high. This makes it important to be familiar with the data.\n",
    "\n",
    "Installation"
   ]
  },
  {
   "cell_type": "code",
   "execution_count": null,
   "id": "eb7feb14-a852-408c-98df-2d83b52fe020",
   "metadata": {},
   "outputs": [],
   "source": [
    "# Update the PATH to include the user installation directory. \n",
    "import os\n",
    "os.environ['PATH'] = f\"{os.environ['PATH']}:/root/.local/bin\"\n",
    "\n",
    "# Restart the Kernel before you move on to the next step."
   ]
  },
  {
   "cell_type": "markdown",
   "id": "0d2254cd-2c59-4b61-a290-e278439f9639",
   "metadata": {},
   "source": [
    "Important: Restart the Kernel before you move on to the next step."
   ]
  },
  {
   "cell_type": "code",
   "execution_count": null,
   "id": "f6814230-8174-4333-9f0a-885e50683514",
   "metadata": {},
   "outputs": [],
   "source": [
    "# Install requirements\n",
    "!python -m pip install -r requirements.txt"
   ]
  },
  {
   "cell_type": "markdown",
   "id": "4c481bd9-89ba-47be-ac6a-c3e1fa35011f",
   "metadata": {},
   "source": [
    "Imports"
   ]
  },
  {
   "cell_type": "code",
   "execution_count": null,
   "id": "5ca8121d-78ab-41b7-b5ea-e9ad7543b05a",
   "metadata": {},
   "outputs": [],
   "source": [
    "## This cell contains the essential imports you will need – DO NOT CHANGE THE CONTENTS! ##\n",
    "import torch\n",
    "import torch.nn as nn\n",
    "import torch.nn.functional as F\n",
    "import torch.optim as optim\n",
    "import torchvision\n",
    "import torchvision.transforms as transforms\n",
    "import matplotlib.pyplot as plt\n",
    "import numpy as np"
   ]
  },
  {
   "cell_type": "markdown",
   "id": "99e43dba-985f-4299-b2be-1325577fbfb7",
   "metadata": {},
   "source": [
    "Load the Dataset\n",
    "Specify your transforms as a list if you intend to . The transforms module is already loaded as transforms.\n",
    "\n",
    "MNIST is fortunately included in the torchvision module. Then, you can create your dataset using the MNIST object from torchvision.datasets (the documentation is available here). Make sure to specify download=True!\n",
    "\n",
    "Once your dataset is created, you'll also need to define a DataLoader from the torch.utils.data module for both the train and the test set."
   ]
  },
  {
   "cell_type": "code",
   "execution_count": null,
   "id": "4b3fabd9-e1ce-43d4-a44e-ee30a0e734d4",
   "metadata": {},
   "outputs": [],
   "source": [
    "# Define transforms\n",
    "## YOUR CODE HERE ##\n",
    "\n",
    "# Create training set and define training dataloader\n",
    "## YOUR CODE HERE ##\n",
    "\n",
    "# Create test set and define test dataloader\n",
    "## YOUR CODE HERE ##"
   ]
  },
  {
   "cell_type": "markdown",
   "id": "8a9e0017-a1e8-444c-ae43-7071a52abdfd",
   "metadata": {},
   "source": [
    "Justify your preprocessing\n",
    "In your own words, why did you choose the transforms you chose? If you didn't use any preprocessing steps, why not?"
   ]
  },
  {
   "cell_type": "markdown",
   "id": "46bce572-b351-4345-88f3-ee6bede625c9",
   "metadata": {},
   "source": [
    "**DOUBLE CLICK THIS CELL TO MODIFY**"
   ]
  },
  {
   "cell_type": "markdown",
   "id": "160d8023-f117-41f8-8d82-2dd8984b7340",
   "metadata": {},
   "source": [
    "Explore the Dataset\n",
    "Using matplotlib, numpy, and torch, explore the dimensions of your data.\n",
    "\n",
    "You can view images using the show5 function defined below – it takes a data loader as an argument. Remember that normalized images will look really weird to you! You may want to try changing your transforms to view images. Typically using no transforms other than toTensor() works well for viewing – but not as well for training your network. If show5 doesn't work, go back and check your code for creating your data loaders and your training/test sets."
   ]
  },
  {
   "cell_type": "code",
   "execution_count": null,
   "id": "7934a0ba-b381-4719-92a3-d8e56ccf11d0",
   "metadata": {},
   "outputs": [],
   "source": [
    "## This cell contains a function for showing 5 images from a dataloader – DO NOT CHANGE THE CONTENTS! ##\n",
    "def show5(img_loader):\n",
    "    dataiter = iter(img_loader)\n",
    "    \n",
    "    batch = next(dataiter)\n",
    "    labels = batch[1][0:5]\n",
    "    images = batch[0][0:5]\n",
    "    for i in range(5):\n",
    "        print(int(labels[i].detach()))\n",
    "    \n",
    "        image = images[i].numpy()\n",
    "        plt.imshow(image.T.squeeze().T)\n",
    "        plt.show()"
   ]
  },
  {
   "cell_type": "code",
   "execution_count": null,
   "id": "fbe6bc2a-f578-4a82-801c-9de4b80a371f",
   "metadata": {},
   "outputs": [],
   "source": [
    "# Explore data\n",
    "## YOUR CODE HERE ##"
   ]
  },
  {
   "cell_type": "markdown",
   "id": "465d0acf-14a7-42f1-89a9-ea57a9d4c947",
   "metadata": {},
   "source": [
    "Build your Neural Network\n",
    "Using the layers in torch.nn (which has been imported as nn) and the torch.nn.functional module (imported as F), construct a neural network based on the parameters of the dataset. Use any architecture you like.\n",
    "\n",
    "Note: If you did not flatten your tensors in your transforms or as part of your preprocessing and you are using only Linear layers, make sure to use the Flatten layer in your network!"
   ]
  },
  {
   "cell_type": "code",
   "execution_count": null,
   "id": "891d2e7b-f765-4a96-b724-89a5c2863213",
   "metadata": {},
   "outputs": [],
   "source": [
    "## YOUR CODE HERE ##"
   ]
  },
  {
   "cell_type": "markdown",
   "id": "71444ed2-e8c3-408b-87fc-0bb2965387f0",
   "metadata": {},
   "source": [
    "Specify a loss function and an optimizer, and instantiate the model.\n",
    "\n",
    "If you use a less common loss function, please note why you chose that loss function in a comment."
   ]
  },
  {
   "cell_type": "code",
   "execution_count": null,
   "id": "8fa7685e-6ac5-44d9-b7ff-a686bcf41c56",
   "metadata": {},
   "outputs": [],
   "source": [
    "## YOUR CODE HERE ##"
   ]
  },
  {
   "cell_type": "code",
   "execution_count": null,
   "id": "c4184ef9-5671-4396-8468-4b6a8cf3c88c",
   "metadata": {},
   "outputs": [],
   "source": [
    "Running your Neural Network\n",
    "Use whatever method you like to train your neural network, and ensure you record the average loss at each epoch. Don't forget to use torch.device() and the .to() method for both your model and your data if you are using GPU!\n",
    "\n",
    "If you want to print your loss during each epoch, you can use the enumerate function and print the loss after a set number of batches. 250 batches works well for most people!"
   ]
  },
  {
   "cell_type": "code",
   "execution_count": null,
   "id": "d070da8b-ce0a-45a1-9a26-46bfe10c882f",
   "metadata": {},
   "outputs": [],
   "source": [
    "## YOUR CODE HERE ##"
   ]
  },
  {
   "cell_type": "markdown",
   "id": "a2581d5a-5907-422b-831b-49bea373ec47",
   "metadata": {},
   "source": [
    "Plot the training loss (and validation loss/accuracy, if recorded)."
   ]
  },
  {
   "cell_type": "code",
   "execution_count": null,
   "id": "20957f49-6ba8-4a3a-ae6c-3444cf8e0ed1",
   "metadata": {},
   "outputs": [],
   "source": [
    "## YOUR CODE HERE ##"
   ]
  },
  {
   "cell_type": "markdown",
   "id": "0a974807-5339-490a-b8ed-010bb412d1e3",
   "metadata": {},
   "source": [
    "Testing your model\n",
    "Using the previously created DataLoader for the test set, compute the percentage of correct predictions using the highest probability prediction.\n",
    "\n",
    "If your accuracy is over 90%, great work, but see if you can push a bit further! If your accuracy is under 90%, you'll need to make improvements. Go back and check your model architecture, loss function, and optimizer to make sure they're appropriate for an image classification task."
   ]
  },
  {
   "cell_type": "code",
   "execution_count": null,
   "id": "a0fd813e-f9a6-44b9-baa2-020986a4be28",
   "metadata": {},
   "outputs": [],
   "source": [
    "## YOUR CODE HERE ##"
   ]
  },
  {
   "cell_type": "markdown",
   "id": "86fd888e-80bb-4e07-b9f8-a1f4e13297e5",
   "metadata": {},
   "source": [
    "Improving your model\n",
    "Once your model is done training, try tweaking your hyperparameters and training again below to improve your accuracy on the test set!"
   ]
  },
  {
   "cell_type": "code",
   "execution_count": null,
   "id": "e9a07521-5159-4eda-9bd2-4851c023f93e",
   "metadata": {},
   "outputs": [],
   "source": [
    "## YOUR CODE HERE ##"
   ]
  },
  {
   "cell_type": "markdown",
   "id": "1a517684-41d8-437d-b70c-af712315132d",
   "metadata": {},
   "source": [
    "Saving your model\n",
    "Using torch.save, save your model for future loading."
   ]
  },
  {
   "cell_type": "code",
   "execution_count": null,
   "id": "e7ab3ee6-92ad-43dc-be91-5eb630e182ab",
   "metadata": {},
   "outputs": [],
   "source": [
    "## YOUR CODE HERE ##"
   ]
  },
  {
   "cell_type": "code",
   "execution_count": null,
   "id": "f3698f18-3ec4-4e90-ab76-0a74e16f593e",
   "metadata": {},
   "outputs": [],
   "source": []
  }
 ],
 "metadata": {
  "kernelspec": {
   "display_name": "Python 3 (ipykernel)",
   "language": "python",
   "name": "python3"
  },
  "language_info": {
   "codemirror_mode": {
    "name": "ipython",
    "version": 3
   },
   "file_extension": ".py",
   "mimetype": "text/x-python",
   "name": "python",
   "nbconvert_exporter": "python",
   "pygments_lexer": "ipython3",
   "version": "3.7.16"
  }
 },
 "nbformat": 4,
 "nbformat_minor": 5
}
