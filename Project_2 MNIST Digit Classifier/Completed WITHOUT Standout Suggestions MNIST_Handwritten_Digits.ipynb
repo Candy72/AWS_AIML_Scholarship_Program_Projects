{
 "cells": [
  {
   "cell_type": "markdown",
   "metadata": {},
   "source": [
    "# Introduction\n",
    "\n",
    "In this project, you will build a neural network of your own design to evaluate the MNIST dataset.\n",
    "\n",
    "Some of the benchmark results on MNIST include can be found [on Yann LeCun's page](https://webcache.googleusercontent.com/search?q=cache:stAVPik6onEJ:yann.lecun.com/exdb/mnist) and include:\n",
    "\n",
    "88% [Lecun et al., 1998](https://hal.science/hal-03926082/document)\n",
    "\n",
    "95.3% [Lecun et al., 1998](https://hal.science/hal-03926082v1/document)\n",
    "\n",
    "99.65% [Ciresan et al., 2011](http://people.idsia.ch/~juergen/ijcai2011.pdf)\n",
    "\n",
    "\n",
    "MNIST is a great dataset for sanity checking your models, since the accuracy levels achieved by large convolutional neural networks and small linear models are both quite high. This makes it important to be familiar with the data.\n",
    "\n",
    "## Installation"
   ]
  },
  {
   "cell_type": "code",
   "execution_count": 1,
   "metadata": {},
   "outputs": [],
   "source": [
    "# Update the PATH to include the user installation directory. \n",
    "import os\n",
    "os.environ['PATH'] = f\"{os.environ['PATH']}:/root/.local/bin\"\n",
    "\n",
    "# Restart the Kernel before you move on to the next step."
   ]
  },
  {
   "cell_type": "markdown",
   "metadata": {},
   "source": [
    "#### Important: Restart the Kernel before you move on to the next step."
   ]
  },
  {
   "cell_type": "code",
   "execution_count": 1,
   "metadata": {},
   "outputs": [
    {
     "name": "stdout",
     "output_type": "stream",
     "text": [
      "Requirement already satisfied: opencv-python-headless==4.5.3.56 in c:\\users\\marce\\anaconda3\\envs\\aiml\\lib\\site-packages (from -r requirements.txt (line 1)) (4.5.3.56)\n",
      "Requirement already satisfied: matplotlib==3.4.3 in c:\\users\\marce\\anaconda3\\envs\\aiml\\lib\\site-packages (from -r requirements.txt (line 2)) (3.4.3)\n",
      "Requirement already satisfied: numpy==1.21.2 in c:\\users\\marce\\anaconda3\\envs\\aiml\\lib\\site-packages (from -r requirements.txt (line 3)) (1.21.2)\n",
      "Requirement already satisfied: pillow==7.0.0 in c:\\users\\marce\\anaconda3\\envs\\aiml\\lib\\site-packages (from -r requirements.txt (line 4)) (7.0.0)\n",
      "Collecting bokeh==2.1.1 (from -r requirements.txt (line 5))\n",
      "  Using cached bokeh-2.1.1.tar.gz (19.3 MB)\n",
      "  Preparing metadata (setup.py): started\n",
      "  Preparing metadata (setup.py): finished with status 'error'\n"
     ]
    },
    {
     "name": "stderr",
     "output_type": "stream",
     "text": [
      "  error: subprocess-exited-with-error\n",
      "  \n",
      "  python setup.py egg_info did not run successfully.\n",
      "  exit code: 1\n",
      "  \n",
      "  [35 lines of output]\n",
      "  C:\\Users\\marce\\anaconda3\\envs\\AIML\\lib\\site-packages\\setuptools\\dist.py:805: SetuptoolsDeprecationWarning: Deprecated API usage.\n",
      "  !!\n",
      "  \n",
      "          ********************************************************************************\n",
      "          As setuptools moves its configuration towards `pyproject.toml`,\n",
      "          `setuptools.config.parse_configuration` became deprecated.\n",
      "  \n",
      "          For the time being, you can use the `setuptools.config.setupcfg` module\n",
      "          to access a backward compatible API, but this module is provisional\n",
      "          and might be removed in the future.\n",
      "  \n",
      "          To read project metadata, consider using\n",
      "          ``build.util.project_wheel_metadata`` (https://pypi.org/project/build/).\n",
      "          For simple scenarios, you can also try parsing the file directly\n",
      "          with the help of ``configparser``.\n",
      "          ********************************************************************************\n",
      "  \n",
      "  !!\n",
      "    self, self.command_options, ignore_option_errors=ignore_option_errors\n",
      "  Traceback (most recent call last):\n",
      "    File \"<string>\", line 36, in <module>\n",
      "    File \"<pip-setuptools-caller>\", line 34, in <module>\n",
      "    File \"C:\\Users\\marce\\AppData\\Local\\Temp\\pip-install-o133jumz\\bokeh_d731b7638360476d9dc44423fa5d8dd2\\setup.py\", line 125, in <module>\n",
      "      cmdclass=versioneer.get_cmdclass(),\n",
      "    File \"C:\\Users\\marce\\anaconda3\\envs\\AIML\\lib\\site-packages\\setuptools\\__init__.py\", line 152, in setup\n",
      "      _install_setup_requires(attrs)\n",
      "    File \"C:\\Users\\marce\\anaconda3\\envs\\AIML\\lib\\site-packages\\setuptools\\__init__.py\", line 145, in _install_setup_requires\n",
      "      dist.parse_config_files(ignore_option_errors=True)\n",
      "    File \"C:\\Users\\marce\\anaconda3\\envs\\AIML\\lib\\site-packages\\setuptools\\dist.py\", line 805, in parse_config_files\n",
      "      self, self.command_options, ignore_option_errors=ignore_option_errors\n",
      "    File \"C:\\Users\\marce\\anaconda3\\envs\\AIML\\lib\\site-packages\\setuptools\\config\\__init__.py\", line 36, in _wrapper\n",
      "      return fn(*args, **kwargs)\n",
      "    File \"C:\\Users\\marce\\anaconda3\\envs\\AIML\\lib\\site-packages\\setuptools\\config\\setupcfg.py\", line 190, in parse_configuration\n",
      "      distribution._referenced_files.update(\n",
      "  AttributeError: 'MinimalDistribution' object has no attribute '_referenced_files'\n",
      "  [end of output]\n",
      "  \n",
      "  note: This error originates from a subprocess, and is likely not a problem with pip.\n",
      "error: metadata-generation-failed\n",
      "\n",
      "Encountered error while generating package metadata.\n",
      "\n",
      "See above for output.\n",
      "\n",
      "note: This is an issue with the package mentioned above, not pip.\n",
      "hint: See above for details.\n"
     ]
    }
   ],
   "source": [
    "# Install requirements\n",
    "!python -m pip install -r requirements.txt"
   ]
  },
  {
   "cell_type": "markdown",
   "metadata": {},
   "source": [
    "## Imports"
   ]
  },
  {
   "cell_type": "code",
   "execution_count": 2,
   "metadata": {},
   "outputs": [],
   "source": [
    "## This cell contains the essential imports you will need – DO NOT CHANGE THE CONTENTS! ##\n",
    "import torch\n",
    "import torch.nn as nn\n",
    "import torch.nn.functional as F\n",
    "import torch.optim as optim\n",
    "import torchvision\n",
    "import torchvision.transforms as transforms\n",
    "import matplotlib.pyplot as plt\n",
    "import numpy as np"
   ]
  },
  {
   "cell_type": "markdown",
   "metadata": {},
   "source": [
    "## Load the Dataset\n",
    "\n",
    "Specify your transforms as a list if you intend to .\n",
    "The transforms module is already loaded as `transforms`.\n",
    "\n",
    "MNIST is fortunately included in the torchvision module.\n",
    "Then, you can create your dataset using the `MNIST` object from `torchvision.datasets` ([the documentation is available here](https://pytorch.org/vision/stable/datasets.html#mnist)).\n",
    "Make sure to specify `download=True`! \n",
    "\n",
    "Once your dataset is created, you'll also need to define a `DataLoader` from the `torch.utils.data` module for both the train and the test set."
   ]
  },
  {
   "cell_type": "code",
   "execution_count": 17,
   "metadata": {},
   "outputs": [],
   "source": [
    "# Define transforms\n",
    "transform = transforms.Compose([\n",
    "    transforms.ToTensor(),  # Convert image to tensor\n",
    "    transforms.Normalize((0.5,), (0.5,))  # Normalize the pixel values\n",
    "])\n",
    "\n",
    "# Create training set and define training dataloader\n",
    "train_set = torchvision.datasets.MNIST(root='./data', train=True, download=True, transform=transform)\n",
    "train_loader = torch.utils.data.DataLoader(train_set, batch_size=64, shuffle=True)\n",
    "\n",
    "# Create test set and define test dataloader\n",
    "test_set = torchvision.datasets.MNIST(root='./data', train=False, download=True, transform=transform)\n",
    "test_loader = torch.utils.data.DataLoader(test_set, batch_size=64, shuffle=False)"
   ]
  },
  {
   "cell_type": "markdown",
   "metadata": {},
   "source": [
    "## Justify your preprocessing\n",
    "\n",
    "In your own words, why did you choose the transforms you chose? If you didn't use any preprocessing steps, why not?"
   ]
  },
  {
   "cell_type": "markdown",
   "metadata": {},
   "source": [
    "### Preprocessing Justification:\n",
    "\n",
    "The chosen preprocessing steps include converting images to tensors and normalizing pixel values. Converting to tensors is essential for feeding the images into a neural network as tensors are the primary data structure used in PyTorch for training models. \n",
    "\n",
    "Normalization is performed to bring the pixel values to a similar scale, which helps in stabilizing and speeding up the training process. By normalizing the pixel values, we ensure that the neural network learns more effectively, as large differences in pixel values across images could lead to slower convergence during training. Normalization also helps in avoiding issues like vanishing or exploding gradients, which can occur when working with raw pixel values that are not scaled appropriately.\n",
    "\n",
    "Overall, these preprocessing steps are necessary to prepare the data for training a neural network effectively.\n"
   ]
  },
  {
   "cell_type": "markdown",
   "metadata": {},
   "source": [
    "## Explore the Dataset\n",
    "Using matplotlib, numpy, and torch, explore the dimensions of your data.\n",
    "\n",
    "You can view images using the `show5` function defined below – it takes a data loader as an argument.\n",
    "Remember that normalized images will look really weird to you! You may want to try changing your transforms to view images.\n",
    "Typically using no transforms other than `toTensor()` works well for viewing – but not as well for training your network.\n",
    "If `show5` doesn't work, go back and check your code for creating your data loaders and your training/test sets."
   ]
  },
  {
   "cell_type": "code",
   "execution_count": 18,
   "metadata": {},
   "outputs": [],
   "source": [
    "## This cell contains a function for showing 5 images from a dataloader – DO NOT CHANGE THE CONTENTS! ##\n",
    "def show5(img_loader):\n",
    "    dataiter = iter(img_loader)\n",
    "    \n",
    "    batch = next(dataiter)\n",
    "    labels = batch[1][0:5]\n",
    "    images = batch[0][0:5]\n",
    "    for i in range(5):\n",
    "        print(int(labels[i].detach()))\n",
    "    \n",
    "        image = images[i].numpy()\n",
    "        plt.imshow(image.T.squeeze().T)\n",
    "        plt.show()"
   ]
  },
  {
   "cell_type": "code",
   "execution_count": 19,
   "metadata": {},
   "outputs": [
    {
     "name": "stdout",
     "output_type": "stream",
     "text": [
      "Training dataset size: 60000\n",
      "Test dataset size: 10000\n",
      "Shape of training images: torch.Size([64, 1, 28, 28])\n",
      "Shape of training labels: torch.Size([64])\n",
      "Shape of test images: torch.Size([64, 1, 28, 28])\n",
      "Shape of test labels: torch.Size([64])\n",
      "Sample of images from the training dataset\n"
     ]
    },
    {
     "data": {
      "image/png": "[encoded data removed]",
      "text/plain": [
       "<Figure size 1500x600 with 10 Axes>"
      ]
     },
     "metadata": {},
     "output_type": "display_data"
    },
    {
     "name": "stdout",
     "output_type": "stream",
     "text": [
      "Sample of images from the test dataset\n"
     ]
    },
    {
     "data": {
      "image/png": "[encoded data removed]",
      "text/plain": [
       "<Figure size 1500x600 with 10 Axes>"
      ]
     },
     "metadata": {},
     "output_type": "display_data"
    }
   ],
   "source": [
    "# Explore data\n",
    "print(\"Training dataset size:\", len(train_set))\n",
    "print(\"Test dataset size:\", len(test_set))\n",
    "\n",
    "# Print the shape of images and labels\n",
    "print(\"Shape of training images:\", next(iter(train_loader))[0].shape)\n",
    "print(\"Shape of training labels:\", next(iter(train_loader))[1].shape)\n",
    "print(\"Shape of test images:\", next(iter(test_loader))[0].shape)\n",
    "print(\"Shape of test labels:\", next(iter(test_loader))[1].shape)\n",
    "\n",
    "def show_samples(dataset_loader):\n",
    "    dataiter = iter(dataset_loader)\n",
    "    images, labels = next(dataiter)\n",
    "    images = images.numpy()\n",
    "    \n",
    "    fig = plt.figure(figsize=(15, 6))\n",
    "    for idx in np.arange(10):\n",
    "        ax = fig.add_subplot(2, 5, idx+1, xticks=[], yticks=[])\n",
    "        ax.imshow(np.squeeze(images[idx]), cmap='gray')\n",
    "        ax.set_title(str(labels[idx].item()))\n",
    "\n",
    "\n",
    "# Show sample of images from the training dataset\n",
    "print(\"Sample of images from the training dataset\")\n",
    "show_samples(train_loader)\n",
    "plt.show()\n",
    "\n",
    "# Show sample of images from the test dataset\n",
    "print(\"Sample of images from the test dataset\")\n",
    "show_samples(test_loader)\n",
    "plt.show()\n",
    "\n"
   ]
  },
  {
   "cell_type": "markdown",
   "metadata": {},
   "source": [
    "## Build your Neural Network\n",
    "Using the layers in `torch.nn` (which has been imported as `nn`) and the `torch.nn.functional` module (imported as `F`), construct a neural network based on the parameters of the dataset.\n",
    "Use any architecture you like. \n",
    "\n",
    "*Note*: If you did not flatten your tensors in your transforms or as part of your preprocessing and you are using only `Linear` layers, make sure to use the `Flatten` layer in your network!"
   ]
  },
  {
   "cell_type": "code",
   "execution_count": 20,
   "metadata": {},
   "outputs": [],
   "source": [
    "class Net(nn.Module):\n",
    "    def __init__(self):\n",
    "        super(Net, self).__init__()\n",
    "        self.fc1 = nn.Linear(28 * 28, 128)\n",
    "        self.fc2 = nn.Linear(128, 64)\n",
    "        self.fc3 = nn.Linear(64, 10)\n",
    "\n",
    "    def forward(self, x):\n",
    "        x = x.view(-1, 28 * 28)  # Flatten the input tensor\n",
    "        x = F.relu(self.fc1(x))\n",
    "        x = F.relu(self.fc2(x))\n",
    "        x = self.fc3(x)\n",
    "        return F.log_softmax(x, dim=1)\n",
    "\n",
    "# Instantiate the model\n",
    "model = Net()"
   ]
  },
  {
   "cell_type": "markdown",
   "metadata": {},
   "source": [
    "Specify a loss function and an optimizer, and instantiate the model.\n",
    "\n",
    "If you use a less common loss function, please note why you chose that loss function in a comment."
   ]
  },
  {
   "cell_type": "code",
   "execution_count": 21,
   "metadata": {},
   "outputs": [],
   "source": [
    "# Specify loss function and optimizer\n",
    "criterion = nn.CrossEntropyLoss()\n",
    "optimizer = optim.Adam(model.parameters(), lr=0.001)"
   ]
  },
  {
   "cell_type": "markdown",
   "metadata": {},
   "source": [
    "## Running your Neural Network\n",
    "Use whatever method you like to train your neural network, and ensure you record the average loss at each epoch. \n",
    "Don't forget to use `torch.device()` and the `.to()` method for both your model and your data if you are using GPU!\n",
    "\n",
    "If you want to print your loss **during** each epoch, you can use the `enumerate` function and print the loss after a set number of batches. 250 batches works well for most people!"
   ]
  },
  {
   "cell_type": "code",
   "execution_count": 22,
   "metadata": {},
   "outputs": [
    {
     "name": "stdout",
     "output_type": "stream",
     "text": [
      "Device: cpu\n",
      "[1, 250] loss: 0.669\n",
      "[1, 500] loss: 0.352\n",
      "[1, 750] loss: 0.280\n",
      "[2, 250] loss: 0.226\n",
      "[2, 500] loss: 0.191\n",
      "[2, 750] loss: 0.178\n",
      "[3, 250] loss: 0.148\n",
      "[3, 500] loss: 0.135\n",
      "[3, 750] loss: 0.134\n",
      "[4, 250] loss: 0.110\n",
      "[4, 500] loss: 0.120\n",
      "[4, 750] loss: 0.111\n",
      "[5, 250] loss: 0.095\n",
      "[5, 500] loss: 0.093\n",
      "[5, 750] loss: 0.091\n",
      "Finished Training\n"
     ]
    }
   ],
   "source": [
    "device = torch.device(\"cuda\" if torch.cuda.is_available() else \"cpu\")\n",
    "print(\"Device:\", device)\n",
    "model.to(device)\n",
    "\n",
    "# Initialize an empty list to store the training loss values\n",
    "loss_values = []\n",
    "\n",
    "epochs = 5\n",
    "for epoch in range(epochs):\n",
    "    running_loss = 0.0\n",
    "    for i, data in enumerate(train_loader, 0):\n",
    "        inputs, labels = data[0].to(device), data[1].to(device)\n",
    "        optimizer.zero_grad()\n",
    "        outputs = model(inputs)\n",
    "        loss = criterion(outputs, labels)\n",
    "        loss.backward()\n",
    "        optimizer.step()\n",
    "\n",
    "        running_loss += loss.item()\n",
    "        if i % 250 == 249:\n",
    "            print(f'[{epoch + 1}, {i + 1}] loss: {running_loss / 250:.3f}')\n",
    "            loss_values.append(running_loss / 250)  # Append the average loss for the batch\n",
    "            running_loss = 0.0\n",
    "print('Finished Training')"
   ]
  },
  {
   "cell_type": "markdown",
   "metadata": {},
   "source": [
    "Plot the training loss (and validation loss/accuracy, if recorded)."
   ]
  },
  {
   "cell_type": "code",
   "execution_count": 23,
   "metadata": {},
   "outputs": [
    {
     "data": {
      "image/png": "[encoded data removed]",
      "text/plain": [
       "<Figure size 640x480 with 1 Axes>"
      ]
     },
     "metadata": {},
     "output_type": "display_data"
    }
   ],
   "source": [
    "# Plot the training loss\n",
    "plt.plot(loss_values)\n",
    "plt.title('Training Loss')\n",
    "plt.xlabel('Epoch')\n",
    "plt.ylabel('Loss')\n",
    "plt.show()"
   ]
  },
  {
   "cell_type": "markdown",
   "metadata": {},
   "source": [
    "## Testing your model\n",
    "Using the previously created `DataLoader` for the test set, compute the percentage of correct predictions using the highest probability prediction. \n",
    "\n",
    "If your accuracy is over 90%, great work, but see if you can push a bit further! \n",
    "If your accuracy is under 90%, you'll need to make improvements.\n",
    "Go back and check your model architecture, loss function, and optimizer to make sure they're appropriate for an image classification task."
   ]
  },
  {
   "cell_type": "code",
   "execution_count": 24,
   "metadata": {},
   "outputs": [
    {
     "name": "stdout",
     "output_type": "stream",
     "text": [
      "Accuracy of the network on the 10000 test images: 96 %\n"
     ]
    }
   ],
   "source": [
    "correct = 0\n",
    "total = 0\n",
    "with torch.no_grad():\n",
    "    for data in test_loader:\n",
    "        inputs, labels = data[0].to(device), data[1].to(device)\n",
    "        outputs = model(inputs)\n",
    "        _, predicted = torch.max(outputs.data, 1)\n",
    "        total += labels.size(0)\n",
    "        correct += (predicted == labels).sum().item()\n",
    "\n",
    "print('Accuracy of the network on the 10000 test images: %d %%' % (100 * correct / total))"
   ]
  },
  {
   "cell_type": "markdown",
   "metadata": {},
   "source": [
    "## Improving your model\n",
    "\n",
    "Once your model is done training, try tweaking your hyperparameters and training again below to improve your accuracy on the test set!"
   ]
  },
  {
   "cell_type": "code",
   "execution_count": 25,
   "metadata": {},
   "outputs": [
    {
     "name": "stdout",
     "output_type": "stream",
     "text": [
      "Device: cpu\n",
      "[1, 250] loss: 0.085\n",
      "[1, 500] loss: 0.083\n",
      "[1, 750] loss: 0.081\n",
      "[2, 250] loss: 0.071\n",
      "[2, 500] loss: 0.077\n",
      "[2, 750] loss: 0.070\n",
      "[3, 250] loss: 0.060\n",
      "[3, 500] loss: 0.058\n",
      "[3, 750] loss: 0.070\n",
      "[4, 250] loss: 0.055\n",
      "[4, 500] loss: 0.057\n",
      "[4, 750] loss: 0.060\n",
      "[5, 250] loss: 0.050\n",
      "[5, 500] loss: 0.054\n",
      "[5, 750] loss: 0.052\n",
      "[6, 250] loss: 0.049\n",
      "[6, 500] loss: 0.048\n",
      "[6, 750] loss: 0.045\n",
      "[7, 250] loss: 0.039\n",
      "[7, 500] loss: 0.045\n",
      "[7, 750] loss: 0.051\n",
      "[8, 250] loss: 0.033\n",
      "[8, 500] loss: 0.035\n",
      "[8, 750] loss: 0.045\n",
      "[9, 250] loss: 0.029\n",
      "[9, 500] loss: 0.034\n",
      "[9, 750] loss: 0.037\n",
      "[10, 250] loss: 0.041\n",
      "[10, 500] loss: 0.038\n",
      "[10, 750] loss: 0.041\n",
      "Finish Training\n"
     ]
    }
   ],
   "source": [
    "# Tweak hyperparameters\n",
    "optimizer = optim.Adam(model.parameters(), lr=0.001)  # Adjust learning rate\n",
    "epochs = 10  # Increase number of epochs\n",
    "batch_size = 128  # Change batch size\n",
    "\n",
    "# Retrain the model\n",
    "device = torch.device(\"cuda\" if torch.cuda.is_available() else \"cpu\")\n",
    "print(\"Device:\", device)\n",
    "model.to(device)\n",
    "\n",
    "# Initialise an empty list to store the training loss values\n",
    "loss_values = []\n",
    "\n",
    "for epoch in range(epochs):\n",
    "    running_loss = 0.0\n",
    "    for i, data in enumerate(train_loader, 0):\n",
    "        inputs, labels = data[0].to(device), data[1].to(device)\n",
    "        optimizer.zero_grad()\n",
    "        outputs = model(inputs)\n",
    "        loss = criterion(outputs, labels)\n",
    "        loss.backward()\n",
    "        optimizer.step()\n",
    "\n",
    "        running_loss += loss.item()\n",
    "        if i % 250 == 249:\n",
    "            print(f'[{epoch + 1}, {i +1}] loss: {running_loss / 250:.3f}')\n",
    "            loss_values.append(running_loss / 250)  # Append the average loss for the batch\n",
    "            running_loss = 0.0\n",
    "print('Finish Training')\n"
   ]
  },
  {
   "cell_type": "markdown",
   "metadata": {},
   "source": [
    "## Saving your model\n",
    "Using `torch.save`, save your model for future loading."
   ]
  },
  {
   "cell_type": "code",
   "execution_count": 26,
   "metadata": {},
   "outputs": [],
   "source": [
    "# Save the model\n",
    "torch.save(model.state_dict(), 'mnist_model.pth')"
   ]
  },
  {
   "cell_type": "code",
   "execution_count": null,
   "metadata": {},
   "outputs": [],
   "source": []
  }
 ],
 "metadata": {
  "kernelspec": {
   "display_name": "Python 3",
   "language": "python",
   "name": "python3"
  },
  "language_info": {
   "codemirror_mode": {
    "name": "ipython",
    "version": 3
   },
   "file_extension": ".py",
   "mimetype": "text/x-python",
   "name": "python",
   "nbconvert_exporter": "python",
   "pygments_lexer": "ipython3",
   "version": "3.7.1"
  }
 },
 "nbformat": 4,
 "nbformat_minor": 4
}
