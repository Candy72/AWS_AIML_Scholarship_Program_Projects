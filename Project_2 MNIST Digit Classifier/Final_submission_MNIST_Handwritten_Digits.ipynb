{
 "cells": [
  {
   "cell_type": "markdown",
   "metadata": {},
   "source": [
    "# Introduction\n",
    "\n",
    "In this project, you will build a neural network of your own design to evaluate the MNIST dataset.\n",
    "\n",
    "Some of the benchmark results on MNIST include can be found [on Yann LeCun's page](https://webcache.googleusercontent.com/search?q=cache:stAVPik6onEJ:yann.lecun.com/exdb/mnist) and include:\n",
    "\n",
    "88% [Lecun et al., 1998](https://hal.science/hal-03926082/document)\n",
    "\n",
    "95.3% [Lecun et al., 1998](https://hal.science/hal-03926082v1/document)\n",
    "\n",
    "99.65% [Ciresan et al., 2011](http://people.idsia.ch/~juergen/ijcai2011.pdf)\n",
    "\n",
    "\n",
    "MNIST is a great dataset for sanity checking your models, since the accuracy levels achieved by large convolutional neural networks and small linear models are both quite high. This makes it important to be familiar with the data.\n",
    "\n",
    "## Installation"
   ]
  },
  {
   "cell_type": "code",
   "execution_count": 43,
   "metadata": {},
   "outputs": [],
   "source": [
    "# Update the PATH to include the user installation directory. \n",
    "import os\n",
    "os.environ['PATH'] = f\"{os.environ['PATH']}:/root/.local/bin\"\n",
    "\n",
    "# Restart the Kernel before you move on to the next step."
   ]
  },
  {
   "cell_type": "markdown",
   "metadata": {},
   "source": [
    "#### Important: Restart the Kernel before you move on to the next step."
   ]
  },
  {
   "cell_type": "code",
   "execution_count": 1,
   "metadata": {},
   "outputs": [
    {
     "name": "stdout",
     "output_type": "stream",
     "text": [
      "Requirement already satisfied: opencv-python-headless==4.5.3.56 in c:\\users\\marce\\anaconda3\\envs\\aiml\\lib\\site-packages (from -r requirements.txt (line 1)) (4.5.3.56)\n",
      "Requirement already satisfied: matplotlib==3.4.3 in c:\\users\\marce\\anaconda3\\envs\\aiml\\lib\\site-packages (from -r requirements.txt (line 2)) (3.4.3)\n",
      "Requirement already satisfied: numpy==1.21.2 in c:\\users\\marce\\anaconda3\\envs\\aiml\\lib\\site-packages (from -r requirements.txt (line 3)) (1.21.2)\n",
      "Requirement already satisfied: pillow==7.0.0 in c:\\users\\marce\\anaconda3\\envs\\aiml\\lib\\site-packages (from -r requirements.txt (line 4)) (7.0.0)\n",
      "Collecting bokeh==2.1.1 (from -r requirements.txt (line 5))\n",
      "  Using cached bokeh-2.1.1.tar.gz (19.3 MB)\n",
      "  Preparing metadata (setup.py): started\n",
      "  Preparing metadata (setup.py): finished with status 'error'\n"
     ]
    },
    {
     "name": "stderr",
     "output_type": "stream",
     "text": [
      "  error: subprocess-exited-with-error\n",
      "  \n",
      "  python setup.py egg_info did not run successfully.\n",
      "  exit code: 1\n",
      "  \n",
      "  [35 lines of output]\n",
      "  C:\\Users\\marce\\anaconda3\\envs\\AIML\\lib\\site-packages\\setuptools\\dist.py:805: SetuptoolsDeprecationWarning: Deprecated API usage.\n",
      "  !!\n",
      "  \n",
      "          ********************************************************************************\n",
      "          As setuptools moves its configuration towards `pyproject.toml`,\n",
      "          `setuptools.config.parse_configuration` became deprecated.\n",
      "  \n",
      "          For the time being, you can use the `setuptools.config.setupcfg` module\n",
      "          to access a backward compatible API, but this module is provisional\n",
      "          and might be removed in the future.\n",
      "  \n",
      "          To read project metadata, consider using\n",
      "          ``build.util.project_wheel_metadata`` (https://pypi.org/project/build/).\n",
      "          For simple scenarios, you can also try parsing the file directly\n",
      "          with the help of ``configparser``.\n",
      "          ********************************************************************************\n",
      "  \n",
      "  !!\n",
      "    self, self.command_options, ignore_option_errors=ignore_option_errors\n",
      "  Traceback (most recent call last):\n",
      "    File \"<string>\", line 36, in <module>\n",
      "    File \"<pip-setuptools-caller>\", line 34, in <module>\n",
      "    File \"C:\\Users\\marce\\AppData\\Local\\Temp\\pip-install-rvmi0qgx\\bokeh_71c68468eadb49f2bf03446e53c5d21f\\setup.py\", line 125, in <module>\n",
      "      cmdclass=versioneer.get_cmdclass(),\n",
      "    File \"C:\\Users\\marce\\anaconda3\\envs\\AIML\\lib\\site-packages\\setuptools\\__init__.py\", line 152, in setup\n",
      "      _install_setup_requires(attrs)\n",
      "    File \"C:\\Users\\marce\\anaconda3\\envs\\AIML\\lib\\site-packages\\setuptools\\__init__.py\", line 145, in _install_setup_requires\n",
      "      dist.parse_config_files(ignore_option_errors=True)\n",
      "    File \"C:\\Users\\marce\\anaconda3\\envs\\AIML\\lib\\site-packages\\setuptools\\dist.py\", line 805, in parse_config_files\n",
      "      self, self.command_options, ignore_option_errors=ignore_option_errors\n",
      "    File \"C:\\Users\\marce\\anaconda3\\envs\\AIML\\lib\\site-packages\\setuptools\\config\\__init__.py\", line 36, in _wrapper\n",
      "      return fn(*args, **kwargs)\n",
      "    File \"C:\\Users\\marce\\anaconda3\\envs\\AIML\\lib\\site-packages\\setuptools\\config\\setupcfg.py\", line 190, in parse_configuration\n",
      "      distribution._referenced_files.update(\n",
      "  AttributeError: 'MinimalDistribution' object has no attribute '_referenced_files'\n",
      "  [end of output]\n",
      "  \n",
      "  note: This error originates from a subprocess, and is likely not a problem with pip.\n",
      "error: metadata-generation-failed\n",
      "\n",
      "Encountered error while generating package metadata.\n",
      "\n",
      "See above for output.\n",
      "\n",
      "note: This is an issue with the package mentioned above, not pip.\n",
      "hint: See above for details.\n"
     ]
    }
   ],
   "source": [
    "# Install requirements\n",
    "!python -m pip install -r requirements.txt"
   ]
  },
  {
   "cell_type": "code",
   "execution_count": 2,
   "metadata": {},
   "outputs": [
    {
     "name": "stdout",
     "output_type": "stream",
     "text": [
      "Requirement already satisfied: opencv-python-headless==4.5.3.56 in c:\\users\\marce\\anaconda3\\envs\\aiml\\lib\\site-packages (4.5.3.56)\n",
      "Requirement already satisfied: numpy>=1.14.5 in c:\\users\\marce\\anaconda3\\envs\\aiml\\lib\\site-packages (from opencv-python-headless==4.5.3.56) (1.21.2)\n"
     ]
    },
    {
     "name": "stderr",
     "output_type": "stream",
     "text": [
      "DEPRECATION: pytorch-lightning 1.7.7 has a non-standard dependency specifier torch>=1.9.*. pip 24.1 will enforce this behaviour change. A possible replacement is to upgrade to a newer version of pytorch-lightning or contact the author to suggest that they release a version with a conforming dependency specifiers. Discussion can be found at https://github.com/pypa/pip/issues/12063\n"
     ]
    },
    {
     "name": "stdout",
     "output_type": "stream",
     "text": [
      "Requirement already satisfied: matplotlib==3.4.3 in c:\\users\\marce\\anaconda3\\envs\\aiml\\lib\\site-packages (3.4.3)\n",
      "Requirement already satisfied: cycler>=0.10 in c:\\users\\marce\\anaconda3\\envs\\aiml\\lib\\site-packages (from matplotlib==3.4.3) (0.11.0)\n",
      "Requirement already satisfied: kiwisolver>=1.0.1 in c:\\users\\marce\\anaconda3\\envs\\aiml\\lib\\site-packages (from matplotlib==3.4.3) (1.4.4)\n",
      "Requirement already satisfied: numpy>=1.16 in c:\\users\\marce\\anaconda3\\envs\\aiml\\lib\\site-packages (from matplotlib==3.4.3) (1.21.2)\n",
      "Requirement already satisfied: pillow>=6.2.0 in c:\\users\\marce\\anaconda3\\envs\\aiml\\lib\\site-packages (from matplotlib==3.4.3) (7.0.0)\n",
      "Requirement already satisfied: pyparsing>=2.2.1 in c:\\users\\marce\\anaconda3\\envs\\aiml\\lib\\site-packages (from matplotlib==3.4.3) (3.1.2)\n",
      "Requirement already satisfied: python-dateutil>=2.7 in c:\\users\\marce\\anaconda3\\envs\\aiml\\lib\\site-packages (from matplotlib==3.4.3) (2.8.2)\n",
      "Requirement already satisfied: typing-extensions in c:\\users\\marce\\anaconda3\\envs\\aiml\\lib\\site-packages (from kiwisolver>=1.0.1->matplotlib==3.4.3) (4.4.0)\n",
      "Requirement already satisfied: six>=1.5 in c:\\users\\marce\\anaconda3\\envs\\aiml\\lib\\site-packages (from python-dateutil>=2.7->matplotlib==3.4.3) (1.16.0)\n"
     ]
    },
    {
     "name": "stderr",
     "output_type": "stream",
     "text": [
      "DEPRECATION: pytorch-lightning 1.7.7 has a non-standard dependency specifier torch>=1.9.*. pip 24.1 will enforce this behaviour change. A possible replacement is to upgrade to a newer version of pytorch-lightning or contact the author to suggest that they release a version with a conforming dependency specifiers. Discussion can be found at https://github.com/pypa/pip/issues/12063\n"
     ]
    },
    {
     "name": "stdout",
     "output_type": "stream",
     "text": [
      "Requirement already satisfied: numpy==1.21.2 in c:\\users\\marce\\anaconda3\\envs\\aiml\\lib\\site-packages (1.21.2)"
     ]
    },
    {
     "name": "stderr",
     "output_type": "stream",
     "text": [
      "DEPRECATION: pytorch-lightning 1.7.7 has a non-standard dependency specifier torch>=1.9.*. pip 24.1 will enforce this behaviour change. A possible replacement is to upgrade to a newer version of pytorch-lightning or contact the author to suggest that they release a version with a conforming dependency specifiers. Discussion can be found at https://github.com/pypa/pip/issues/12063\n"
     ]
    },
    {
     "name": "stdout",
     "output_type": "stream",
     "text": [
      "\n",
      "Requirement already satisfied: pillow==7.0.0 in c:\\users\\marce\\anaconda3\\envs\\aiml\\lib\\site-packages (7.0.0)\n"
     ]
    },
    {
     "name": "stderr",
     "output_type": "stream",
     "text": [
      "DEPRECATION: pytorch-lightning 1.7.7 has a non-standard dependency specifier torch>=1.9.*. pip 24.1 will enforce this behaviour change. A possible replacement is to upgrade to a newer version of pytorch-lightning or contact the author to suggest that they release a version with a conforming dependency specifiers. Discussion can be found at https://github.com/pypa/pip/issues/12063\n",
      "  error: subprocess-exited-with-error\n",
      "  \n",
      "  python setup.py egg_info did not run successfully.\n",
      "  exit code: 1\n",
      "  \n",
      "  [35 lines of output]\n",
      "  C:\\Users\\marce\\anaconda3\\envs\\AIML\\lib\\site-packages\\setuptools\\dist.py:805: SetuptoolsDeprecationWarning: Deprecated API usage.\n",
      "  !!\n",
      "  \n",
      "          ********************************************************************************\n",
      "          As setuptools moves its configuration towards `pyproject.toml`,\n",
      "          `setuptools.config.parse_configuration` became deprecated.\n",
      "  \n",
      "          For the time being, you can use the `setuptools.config.setupcfg` module\n",
      "          to access a backward compatible API, but this module is provisional\n",
      "          and might be removed in the future.\n",
      "  \n",
      "          To read project metadata, consider using\n",
      "          ``build.util.project_wheel_metadata`` (https://pypi.org/project/build/).\n",
      "          For simple scenarios, you can also try parsing the file directly\n",
      "          with the help of ``configparser``.\n",
      "          ********************************************************************************\n",
      "  \n",
      "  !!\n",
      "    self, self.command_options, ignore_option_errors=ignore_option_errors\n",
      "  Traceback (most recent call last):\n",
      "    File \"<string>\", line 36, in <module>\n",
      "    File \"<pip-setuptools-caller>\", line 34, in <module>\n",
      "    File \"C:\\Users\\marce\\AppData\\Local\\Temp\\pip-install-1enw0gsw\\bokeh_ae2a168c71a2404fab8855b02b68793c\\setup.py\", line 125, in <module>\n",
      "      cmdclass=versioneer.get_cmdclass(),\n",
      "    File \"C:\\Users\\marce\\anaconda3\\envs\\AIML\\lib\\site-packages\\setuptools\\__init__.py\", line 152, in setup\n",
      "      _install_setup_requires(attrs)\n",
      "    File \"C:\\Users\\marce\\anaconda3\\envs\\AIML\\lib\\site-packages\\setuptools\\__init__.py\", line 145, in _install_setup_requires\n",
      "      dist.parse_config_files(ignore_option_errors=True)\n",
      "    File \"C:\\Users\\marce\\anaconda3\\envs\\AIML\\lib\\site-packages\\setuptools\\dist.py\", line 805, in parse_config_files\n",
      "      self, self.command_options, ignore_option_errors=ignore_option_errors\n",
      "    File \"C:\\Users\\marce\\anaconda3\\envs\\AIML\\lib\\site-packages\\setuptools\\config\\__init__.py\", line 36, in _wrapper\n",
      "      return fn(*args, **kwargs)\n",
      "    File \"C:\\Users\\marce\\anaconda3\\envs\\AIML\\lib\\site-packages\\setuptools\\config\\setupcfg.py\", line 190, in parse_configuration\n",
      "      distribution._referenced_files.update(\n",
      "  AttributeError: 'MinimalDistribution' object has no attribute '_referenced_files'\n",
      "  [end of output]\n",
      "  \n",
      "  note: This error originates from a subprocess, and is likely not a problem with pip.\n",
      "error: metadata-generation-failed\n",
      "\n",
      "Encountered error while generating package metadata.\n",
      "\n",
      "See above for output.\n",
      "\n",
      "note: This is an issue with the package mentioned above, not pip.\n",
      "hint: See above for details.\n"
     ]
    },
    {
     "name": "stdout",
     "output_type": "stream",
     "text": [
      "Collecting bokeh==2.1.1\n",
      "  Using cached bokeh-2.1.1.tar.gz (19.3 MB)\n",
      "  Preparing metadata (setup.py): started\n",
      "  Preparing metadata (setup.py): finished with status 'error'\n",
      "Requirement already satisfied: torch==1.11.0 in c:\\users\\marce\\anaconda3\\envs\\aiml\\lib\\site-packages (1.11.0)\n",
      "Requirement already satisfied: typing-extensions in c:\\users\\marce\\anaconda3\\envs\\aiml\\lib\\site-packages (from torch==1.11.0) (4.4.0)\n"
     ]
    },
    {
     "name": "stderr",
     "output_type": "stream",
     "text": [
      "DEPRECATION: pytorch-lightning 1.7.7 has a non-standard dependency specifier torch>=1.9.*. pip 24.1 will enforce this behaviour change. A possible replacement is to upgrade to a newer version of pytorch-lightning or contact the author to suggest that they release a version with a conforming dependency specifiers. Discussion can be found at https://github.com/pypa/pip/issues/12063\n"
     ]
    },
    {
     "name": "stdout",
     "output_type": "stream",
     "text": [
      "Requirement already satisfied: torchvision==0.12.0 in c:\\users\\marce\\anaconda3\\envs\\aiml\\lib\\site-packages (0.12.0)\n",
      "Requirement already satisfied: typing-extensions in c:\\users\\marce\\anaconda3\\envs\\aiml\\lib\\site-packages (from torchvision==0.12.0) (4.4.0)\n",
      "Requirement already satisfied: numpy in c:\\users\\marce\\anaconda3\\envs\\aiml\\lib\\site-packages (from torchvision==0.12.0) (1.21.2)\n",
      "Requirement already satisfied: requests in c:\\users\\marce\\anaconda3\\envs\\aiml\\lib\\site-packages (from torchvision==0.12.0) (2.31.0)\n",
      "Requirement already satisfied: torch==1.11.0 in c:\\users\\marce\\anaconda3\\envs\\aiml\\lib\\site-packages (from torchvision==0.12.0) (1.11.0)\n",
      "Requirement already satisfied: pillow!=8.3.*,>=5.3.0 in c:\\users\\marce\\anaconda3\\envs\\aiml\\lib\\site-packages (from torchvision==0.12.0) (7.0.0)\n",
      "Requirement already satisfied: charset-normalizer<4,>=2 in c:\\users\\marce\\anaconda3\\envs\\aiml\\lib\\site-packages (from requests->torchvision==0.12.0) (2.0.4)\n",
      "Requirement already satisfied: idna<4,>=2.5 in c:\\users\\marce\\anaconda3\\envs\\aiml\\lib\\site-packages (from requests->torchvision==0.12.0) (3.7)\n",
      "Requirement already satisfied: urllib3<3,>=1.21.1 in c:\\users\\marce\\anaconda3\\envs\\aiml\\lib\\site-packages (from requests->torchvision==0.12.0) (1.26.18)\n",
      "Requirement already satisfied: certifi>=2017.4.17 in c:\\users\\marce\\anaconda3\\envs\\aiml\\lib\\site-packages (from requests->torchvision==0.12.0) (2024.2.2)\n"
     ]
    },
    {
     "name": "stderr",
     "output_type": "stream",
     "text": [
      "DEPRECATION: pytorch-lightning 1.7.7 has a non-standard dependency specifier torch>=1.9.*. pip 24.1 will enforce this behaviour change. A possible replacement is to upgrade to a newer version of pytorch-lightning or contact the author to suggest that they release a version with a conforming dependency specifiers. Discussion can be found at https://github.com/pypa/pip/issues/12063\n"
     ]
    },
    {
     "name": "stdout",
     "output_type": "stream",
     "text": [
      "Requirement already satisfied: tqdm==4.63.0 in c:\\users\\marce\\anaconda3\\envs\\aiml\\lib\\site-packages (4.63.0)\n",
      "Requirement already satisfied: colorama in c:\\users\\marce\\anaconda3\\envs\\aiml\\lib\\site-packages (from tqdm==4.63.0) (0.4.6)\n"
     ]
    },
    {
     "name": "stderr",
     "output_type": "stream",
     "text": [
      "DEPRECATION: pytorch-lightning 1.7.7 has a non-standard dependency specifier torch>=1.9.*. pip 24.1 will enforce this behaviour change. A possible replacement is to upgrade to a newer version of pytorch-lightning or contact the author to suggest that they release a version with a conforming dependency specifiers. Discussion can be found at https://github.com/pypa/pip/issues/12063\n",
      "DEPRECATION: pytorch-lightning 1.7.7 has a non-standard dependency specifier torch>=1.9.*. pip 24.1 will enforce this behaviour change. A possible replacement is to upgrade to a newer version of pytorch-lightning or contact the author to suggest that they release a version with a conforming dependency specifiers. Discussion can be found at https://github.com/pypa/pip/issues/12063\n"
     ]
    },
    {
     "name": "stdout",
     "output_type": "stream",
     "text": [
      "Requirement already satisfied: ipywidgets==7.7.0 in c:\\users\\marce\\anaconda3\\envs\\aiml\\lib\\site-packages (7.7.0)\n",
      "Requirement already satisfied: ipykernel>=4.5.1 in c:\\users\\marce\\anaconda3\\envs\\aiml\\lib\\site-packages (from ipywidgets==7.7.0) (4.10.0)\n",
      "Requirement already satisfied: ipython-genutils~=0.2.0 in c:\\users\\marce\\anaconda3\\envs\\aiml\\lib\\site-packages (from ipywidgets==7.7.0) (0.2.0)\n",
      "Requirement already satisfied: traitlets>=4.3.1 in c:\\users\\marce\\anaconda3\\envs\\aiml\\lib\\site-packages (from ipywidgets==7.7.0) (5.7.1)\n",
      "Requirement already satisfied: nbformat>=4.2.0 in c:\\users\\marce\\anaconda3\\envs\\aiml\\lib\\site-packages (from ipywidgets==7.7.0) (5.7.0)\n",
      "Requirement already satisfied: widgetsnbextension~=3.6.0 in c:\\users\\marce\\anaconda3\\envs\\aiml\\lib\\site-packages (from ipywidgets==7.7.0) (3.6.6)\n",
      "Requirement already satisfied: ipython>=4.0.0 in c:\\users\\marce\\anaconda3\\envs\\aiml\\lib\\site-packages (from ipywidgets==7.7.0) (7.31.1)\n",
      "Requirement already satisfied: jupyterlab-widgets>=1.0.0 in c:\\users\\marce\\anaconda3\\envs\\aiml\\lib\\site-packages (from ipywidgets==7.7.0) (1.1.7)\n",
      "Requirement already satisfied: jupyter-client in c:\\users\\marce\\anaconda3\\envs\\aiml\\lib\\site-packages (from ipykernel>=4.5.1->ipywidgets==7.7.0) (7.3.4)\n",
      "Requirement already satisfied: tornado>=4.0 in c:\\users\\marce\\anaconda3\\envs\\aiml\\lib\\site-packages (from ipykernel>=4.5.1->ipywidgets==7.7.0) (6.1)\n",
      "Requirement already satisfied: setuptools>=18.5 in c:\\users\\marce\\anaconda3\\envs\\aiml\\lib\\site-packages (from ipython>=4.0.0->ipywidgets==7.7.0) (59.8.0)\n",
      "Requirement already satisfied: jedi>=0.16 in c:\\users\\marce\\anaconda3\\envs\\aiml\\lib\\site-packages (from ipython>=4.0.0->ipywidgets==7.7.0) (0.18.1)\n",
      "Requirement already satisfied: decorator in c:\\users\\marce\\anaconda3\\envs\\aiml\\lib\\site-packages (from ipython>=4.0.0->ipywidgets==7.7.0) (5.1.1)\n",
      "Requirement already satisfied: pickleshare in c:\\users\\marce\\anaconda3\\envs\\aiml\\lib\\site-packages (from ipython>=4.0.0->ipywidgets==7.7.0) (0.7.5)\n",
      "Requirement already satisfied: prompt-toolkit!=3.0.0,!=3.0.1,<3.1.0,>=2.0.0 in c:\\users\\marce\\anaconda3\\envs\\aiml\\lib\\site-packages (from ipython>=4.0.0->ipywidgets==7.7.0) (3.0.36)\n",
      "Requirement already satisfied: pygments in c:\\users\\marce\\anaconda3\\envs\\aiml\\lib\\site-packages (from ipython>=4.0.0->ipywidgets==7.7.0) (2.17.2)\n",
      "Requirement already satisfied: backcall in c:\\users\\marce\\anaconda3\\envs\\aiml\\lib\\site-packages (from ipython>=4.0.0->ipywidgets==7.7.0) (0.2.0)\n",
      "Requirement already satisfied: matplotlib-inline in c:\\users\\marce\\anaconda3\\envs\\aiml\\lib\\site-packages (from ipython>=4.0.0->ipywidgets==7.7.0) (0.1.6)\n",
      "Requirement already satisfied: colorama in c:\\users\\marce\\anaconda3\\envs\\aiml\\lib\\site-packages (from ipython>=4.0.0->ipywidgets==7.7.0) (0.4.6)\n",
      "Requirement already satisfied: fastjsonschema in c:\\users\\marce\\anaconda3\\envs\\aiml\\lib\\site-packages (from nbformat>=4.2.0->ipywidgets==7.7.0) (2.16.2)\n",
      "Requirement already satisfied: importlib-metadata>=3.6 in c:\\users\\marce\\anaconda3\\envs\\aiml\\lib\\site-packages (from nbformat>=4.2.0->ipywidgets==7.7.0) (4.11.3)\n",
      "Requirement already satisfied: jsonschema>=2.6 in c:\\users\\marce\\anaconda3\\envs\\aiml\\lib\\site-packages (from nbformat>=4.2.0->ipywidgets==7.7.0) (4.8.0)\n",
      "Requirement already satisfied: jupyter-core in c:\\users\\marce\\anaconda3\\envs\\aiml\\lib\\site-packages (from nbformat>=4.2.0->ipywidgets==7.7.0) (4.12.0)\n",
      "Requirement already satisfied: notebook>=4.4.1 in c:\\users\\marce\\anaconda3\\envs\\aiml\\lib\\site-packages (from widgetsnbextension~=3.6.0->ipywidgets==7.7.0) (6.5.2)\n",
      "Requirement already satisfied: zipp>=0.5 in c:\\users\\marce\\anaconda3\\envs\\aiml\\lib\\site-packages (from importlib-metadata>=3.6->nbformat>=4.2.0->ipywidgets==7.7.0) (3.11.0)\n",
      "Requirement already satisfied: typing-extensions>=3.6.4 in c:\\users\\marce\\anaconda3\\envs\\aiml\\lib\\site-packages (from importlib-metadata>=3.6->nbformat>=4.2.0->ipywidgets==7.7.0) (4.4.0)\n",
      "Requirement already satisfied: parso<0.9.0,>=0.8.0 in c:\\users\\marce\\anaconda3\\envs\\aiml\\lib\\site-packages (from jedi>=0.16->ipython>=4.0.0->ipywidgets==7.7.0) (0.8.3)\n",
      "Requirement already satisfied: attrs>=17.4.0 in c:\\users\\marce\\anaconda3\\envs\\aiml\\lib\\site-packages (from jsonschema>=2.6->nbformat>=4.2.0->ipywidgets==7.7.0) (22.1.0)\n",
      "Requirement already satisfied: importlib-resources>=1.4.0 in c:\\users\\marce\\anaconda3\\envs\\aiml\\lib\\site-packages (from jsonschema>=2.6->nbformat>=4.2.0->ipywidgets==7.7.0) (5.2.0)\n",
      "Requirement already satisfied: pyrsistent!=0.17.0,!=0.17.1,!=0.17.2,>=0.14.0 in c:\\users\\marce\\anaconda3\\envs\\aiml\\lib\\site-packages (from jsonschema>=2.6->nbformat>=4.2.0->ipywidgets==7.7.0) (0.18.0)\n",
      "Requirement already satisfied: jinja2 in c:\\users\\marce\\anaconda3\\envs\\aiml\\lib\\site-packages (from notebook>=4.4.1->widgetsnbextension~=3.6.0->ipywidgets==7.7.0) (3.1.2)\n",
      "Requirement already satisfied: pyzmq>=17 in c:\\users\\marce\\anaconda3\\envs\\aiml\\lib\\site-packages (from notebook>=4.4.1->widgetsnbextension~=3.6.0->ipywidgets==7.7.0) (23.2.0)\n",
      "Requirement already satisfied: argon2-cffi in c:\\users\\marce\\anaconda3\\envs\\aiml\\lib\\site-packages (from notebook>=4.4.1->widgetsnbextension~=3.6.0->ipywidgets==7.7.0) (21.3.0)\n",
      "Requirement already satisfied: nbconvert>=5 in c:\\users\\marce\\anaconda3\\envs\\aiml\\lib\\site-packages (from notebook>=4.4.1->widgetsnbextension~=3.6.0->ipywidgets==7.7.0) (6.5.4)\n",
      "Requirement already satisfied: nest-asyncio>=1.5 in c:\\users\\marce\\anaconda3\\envs\\aiml\\lib\\site-packages (from notebook>=4.4.1->widgetsnbextension~=3.6.0->ipywidgets==7.7.0) (1.5.6)\n",
      "Requirement already satisfied: Send2Trash>=1.8.0 in c:\\users\\marce\\anaconda3\\envs\\aiml\\lib\\site-packages (from notebook>=4.4.1->widgetsnbextension~=3.6.0->ipywidgets==7.7.0) (1.8.0)\n",
      "Requirement already satisfied: terminado>=0.8.3 in c:\\users\\marce\\anaconda3\\envs\\aiml\\lib\\site-packages (from notebook>=4.4.1->widgetsnbextension~=3.6.0->ipywidgets==7.7.0) (0.17.1)\n",
      "Requirement already satisfied: prometheus-client in c:\\users\\marce\\anaconda3\\envs\\aiml\\lib\\site-packages (from notebook>=4.4.1->widgetsnbextension~=3.6.0->ipywidgets==7.7.0) (0.14.1)\n",
      "Requirement already satisfied: nbclassic>=0.4.7 in c:\\users\\marce\\anaconda3\\envs\\aiml\\lib\\site-packages (from notebook>=4.4.1->widgetsnbextension~=3.6.0->ipywidgets==7.7.0) (0.5.2)\n",
      "Requirement already satisfied: entrypoints in c:\\users\\marce\\anaconda3\\envs\\aiml\\lib\\site-packages (from jupyter-client->ipykernel>=4.5.1->ipywidgets==7.7.0) (0.4)\n",
      "Requirement already satisfied: python-dateutil>=2.8.2 in c:\\users\\marce\\anaconda3\\envs\\aiml\\lib\\site-packages (from jupyter-client->ipykernel>=4.5.1->ipywidgets==7.7.0) (2.8.2)\n",
      "Requirement already satisfied: pywin32>=1.0 in c:\\users\\marce\\anaconda3\\envs\\aiml\\lib\\site-packages (from jupyter-core->nbformat>=4.2.0->ipywidgets==7.7.0) (305.1)\n",
      "Requirement already satisfied: wcwidth in c:\\users\\marce\\anaconda3\\envs\\aiml\\lib\\site-packages (from prompt-toolkit!=3.0.0,!=3.0.1,<3.1.0,>=2.0.0->ipython>=4.0.0->ipywidgets==7.7.0) (0.2.5)\n",
      "Requirement already satisfied: jupyter-server>=1.8 in c:\\users\\marce\\anaconda3\\envs\\aiml\\lib\\site-packages (from nbclassic>=0.4.7->notebook>=4.4.1->widgetsnbextension~=3.6.0->ipywidgets==7.7.0) (1.23.4)\n",
      "Requirement already satisfied: notebook-shim>=0.1.0 in c:\\users\\marce\\anaconda3\\envs\\aiml\\lib\\site-packages (from nbclassic>=0.4.7->notebook>=4.4.1->widgetsnbextension~=3.6.0->ipywidgets==7.7.0) (0.2.2)\n",
      "Requirement already satisfied: lxml in c:\\users\\marce\\anaconda3\\envs\\aiml\\lib\\site-packages (from nbconvert>=5->notebook>=4.4.1->widgetsnbextension~=3.6.0->ipywidgets==7.7.0) (4.9.1)\n",
      "Requirement already satisfied: beautifulsoup4 in c:\\users\\marce\\anaconda3\\envs\\aiml\\lib\\site-packages (from nbconvert>=5->notebook>=4.4.1->widgetsnbextension~=3.6.0->ipywidgets==7.7.0) (4.11.1)\n",
      "Requirement already satisfied: bleach in c:\\users\\marce\\anaconda3\\envs\\aiml\\lib\\site-packages (from nbconvert>=5->notebook>=4.4.1->widgetsnbextension~=3.6.0->ipywidgets==7.7.0) (4.1.0)\n",
      "Requirement already satisfied: defusedxml in c:\\users\\marce\\anaconda3\\envs\\aiml\\lib\\site-packages (from nbconvert>=5->notebook>=4.4.1->widgetsnbextension~=3.6.0->ipywidgets==7.7.0) (0.7.1)\n",
      "Requirement already satisfied: jupyterlab-pygments in c:\\users\\marce\\anaconda3\\envs\\aiml\\lib\\site-packages (from nbconvert>=5->notebook>=4.4.1->widgetsnbextension~=3.6.0->ipywidgets==7.7.0) (0.1.2)\n",
      "Requirement already satisfied: MarkupSafe>=2.0 in c:\\users\\marce\\anaconda3\\envs\\aiml\\lib\\site-packages (from nbconvert>=5->notebook>=4.4.1->widgetsnbextension~=3.6.0->ipywidgets==7.7.0) (2.1.1)\n",
      "Requirement already satisfied: mistune<2,>=0.8.1 in c:\\users\\marce\\anaconda3\\envs\\aiml\\lib\\site-packages (from nbconvert>=5->notebook>=4.4.1->widgetsnbextension~=3.6.0->ipywidgets==7.7.0) (0.8.4)\n",
      "Requirement already satisfied: nbclient>=0.5.0 in c:\\users\\marce\\anaconda3\\envs\\aiml\\lib\\site-packages (from nbconvert>=5->notebook>=4.4.1->widgetsnbextension~=3.6.0->ipywidgets==7.7.0) (0.5.13)\n",
      "Requirement already satisfied: packaging in c:\\users\\marce\\anaconda3\\envs\\aiml\\lib\\site-packages (from nbconvert>=5->notebook>=4.4.1->widgetsnbextension~=3.6.0->ipywidgets==7.7.0) (22.0)\n",
      "Requirement already satisfied: pandocfilters>=1.4.1 in c:\\users\\marce\\anaconda3\\envs\\aiml\\lib\\site-packages (from nbconvert>=5->notebook>=4.4.1->widgetsnbextension~=3.6.0->ipywidgets==7.7.0) (1.5.0)\n",
      "Requirement already satisfied: tinycss2 in c:\\users\\marce\\anaconda3\\envs\\aiml\\lib\\site-packages (from nbconvert>=5->notebook>=4.4.1->widgetsnbextension~=3.6.0->ipywidgets==7.7.0) (1.2.1)\n",
      "Requirement already satisfied: six>=1.5 in c:\\users\\marce\\anaconda3\\envs\\aiml\\lib\\site-packages (from python-dateutil>=2.8.2->jupyter-client->ipykernel>=4.5.1->ipywidgets==7.7.0) (1.16.0)\n",
      "Requirement already satisfied: pywinpty>=1.1.0 in c:\\users\\marce\\anaconda3\\envs\\aiml\\lib\\site-packages (from terminado>=0.8.3->notebook>=4.4.1->widgetsnbextension~=3.6.0->ipywidgets==7.7.0) (2.0.10)\n",
      "Requirement already satisfied: argon2-cffi-bindings in c:\\users\\marce\\anaconda3\\envs\\aiml\\lib\\site-packages (from argon2-cffi->notebook>=4.4.1->widgetsnbextension~=3.6.0->ipywidgets==7.7.0) (21.2.0)\n",
      "Requirement already satisfied: anyio<4,>=3.1.0 in c:\\users\\marce\\anaconda3\\envs\\aiml\\lib\\site-packages (from jupyter-server>=1.8->nbclassic>=0.4.7->notebook>=4.4.1->widgetsnbextension~=3.6.0->ipywidgets==7.7.0) (3.5.0)\n",
      "Requirement already satisfied: websocket-client in c:\\users\\marce\\anaconda3\\envs\\aiml\\lib\\site-packages (from jupyter-server>=1.8->nbclassic>=0.4.7->notebook>=4.4.1->widgetsnbextension~=3.6.0->ipywidgets==7.7.0) (0.58.0)\n",
      "Requirement already satisfied: cffi>=1.0.1 in c:\\users\\marce\\anaconda3\\envs\\aiml\\lib\\site-packages (from argon2-cffi-bindings->argon2-cffi->notebook>=4.4.1->widgetsnbextension~=3.6.0->ipywidgets==7.7.0) (1.15.1)\n",
      "Requirement already satisfied: soupsieve>1.2 in c:\\users\\marce\\anaconda3\\envs\\aiml\\lib\\site-packages (from beautifulsoup4->nbconvert>=5->notebook>=4.4.1->widgetsnbextension~=3.6.0->ipywidgets==7.7.0) (2.3.2.post1)\n",
      "Requirement already satisfied: webencodings in c:\\users\\marce\\anaconda3\\envs\\aiml\\lib\\site-packages (from bleach->nbconvert>=5->notebook>=4.4.1->widgetsnbextension~=3.6.0->ipywidgets==7.7.0) (0.5.1)\n",
      "Requirement already satisfied: idna>=2.8 in c:\\users\\marce\\anaconda3\\envs\\aiml\\lib\\site-packages (from anyio<4,>=3.1.0->jupyter-server>=1.8->nbclassic>=0.4.7->notebook>=4.4.1->widgetsnbextension~=3.6.0->ipywidgets==7.7.0) (3.7)\n",
      "Requirement already satisfied: sniffio>=1.1 in c:\\users\\marce\\anaconda3\\envs\\aiml\\lib\\site-packages (from anyio<4,>=3.1.0->jupyter-server>=1.8->nbclassic>=0.4.7->notebook>=4.4.1->widgetsnbextension~=3.6.0->ipywidgets==7.7.0) (1.2.0)\n",
      "Requirement already satisfied: pycparser in c:\\users\\marce\\anaconda3\\envs\\aiml\\lib\\site-packages (from cffi>=1.0.1->argon2-cffi-bindings->argon2-cffi->notebook>=4.4.1->widgetsnbextension~=3.6.0->ipywidgets==7.7.0) (2.21)\n",
      "Requirement already satisfied: livelossplot==0.5.4 in c:\\users\\marce\\anaconda3\\envs\\aiml\\lib\\site-packages (0.5.4)\n"
     ]
    },
    {
     "name": "stderr",
     "output_type": "stream",
     "text": [
      "DEPRECATION: pytorch-lightning 1.7.7 has a non-standard dependency specifier torch>=1.9.*. pip 24.1 will enforce this behaviour change. A possible replacement is to upgrade to a newer version of pytorch-lightning or contact the author to suggest that they release a version with a conforming dependency specifiers. Discussion can be found at https://github.com/pypa/pip/issues/12063\n"
     ]
    },
    {
     "name": "stdout",
     "output_type": "stream",
     "text": [
      "Requirement already satisfied: ipython in c:\\users\\marce\\anaconda3\\envs\\aiml\\lib\\site-packages (from livelossplot==0.5.4) (7.31.1)\n",
      "Requirement already satisfied: matplotlib in c:\\users\\marce\\anaconda3\\envs\\aiml\\lib\\site-packages (from livelossplot==0.5.4) (3.4.3)\n",
      "Requirement already satisfied: bokeh in c:\\users\\marce\\anaconda3\\envs\\aiml\\lib\\site-packages (from livelossplot==0.5.4) (2.0.1)\n",
      "Requirement already satisfied: PyYAML>=3.10 in c:\\users\\marce\\anaconda3\\envs\\aiml\\lib\\site-packages (from bokeh->livelossplot==0.5.4) (6.0.1)\n",
      "Requirement already satisfied: python-dateutil>=2.1 in c:\\users\\marce\\anaconda3\\envs\\aiml\\lib\\site-packages (from bokeh->livelossplot==0.5.4) (2.8.2)\n",
      "Requirement already satisfied: Jinja2>=2.7 in c:\\users\\marce\\anaconda3\\envs\\aiml\\lib\\site-packages (from bokeh->livelossplot==0.5.4) (3.1.2)\n",
      "Requirement already satisfied: numpy>=1.11.3 in c:\\users\\marce\\anaconda3\\envs\\aiml\\lib\\site-packages (from bokeh->livelossplot==0.5.4) (1.21.2)\n",
      "Requirement already satisfied: pillow>=4.0 in c:\\users\\marce\\anaconda3\\envs\\aiml\\lib\\site-packages (from bokeh->livelossplot==0.5.4) (7.0.0)\n",
      "Requirement already satisfied: packaging>=16.8 in c:\\users\\marce\\anaconda3\\envs\\aiml\\lib\\site-packages (from bokeh->livelossplot==0.5.4) (22.0)\n",
      "Requirement already satisfied: tornado>=5 in c:\\users\\marce\\anaconda3\\envs\\aiml\\lib\\site-packages (from bokeh->livelossplot==0.5.4) (6.1)\n",
      "Requirement already satisfied: typing-extensions>=3.7.4 in c:\\users\\marce\\anaconda3\\envs\\aiml\\lib\\site-packages (from bokeh->livelossplot==0.5.4) (4.4.0)\n",
      "Requirement already satisfied: setuptools>=18.5 in c:\\users\\marce\\anaconda3\\envs\\aiml\\lib\\site-packages (from ipython->livelossplot==0.5.4) (59.8.0)\n",
      "Requirement already satisfied: jedi>=0.16 in c:\\users\\marce\\anaconda3\\envs\\aiml\\lib\\site-packages (from ipython->livelossplot==0.5.4) (0.18.1)\n",
      "Requirement already satisfied: decorator in c:\\users\\marce\\anaconda3\\envs\\aiml\\lib\\site-packages (from ipython->livelossplot==0.5.4) (5.1.1)\n",
      "Requirement already satisfied: pickleshare in c:\\users\\marce\\anaconda3\\envs\\aiml\\lib\\site-packages (from ipython->livelossplot==0.5.4) (0.7.5)\n",
      "Requirement already satisfied: traitlets>=4.2 in c:\\users\\marce\\anaconda3\\envs\\aiml\\lib\\site-packages (from ipython->livelossplot==0.5.4) (5.7.1)\n",
      "Requirement already satisfied: prompt-toolkit!=3.0.0,!=3.0.1,<3.1.0,>=2.0.0 in c:\\users\\marce\\anaconda3\\envs\\aiml\\lib\\site-packages (from ipython->livelossplot==0.5.4) (3.0.36)\n",
      "Requirement already satisfied: pygments in c:\\users\\marce\\anaconda3\\envs\\aiml\\lib\\site-packages (from ipython->livelossplot==0.5.4) (2.17.2)\n",
      "Requirement already satisfied: backcall in c:\\users\\marce\\anaconda3\\envs\\aiml\\lib\\site-packages (from ipython->livelossplot==0.5.4) (0.2.0)\n",
      "Requirement already satisfied: matplotlib-inline in c:\\users\\marce\\anaconda3\\envs\\aiml\\lib\\site-packages (from ipython->livelossplot==0.5.4) (0.1.6)\n",
      "Requirement already satisfied: colorama in c:\\users\\marce\\anaconda3\\envs\\aiml\\lib\\site-packages (from ipython->livelossplot==0.5.4) (0.4.6)\n",
      "Requirement already satisfied: cycler>=0.10 in c:\\users\\marce\\anaconda3\\envs\\aiml\\lib\\site-packages (from matplotlib->livelossplot==0.5.4) (0.11.0)\n",
      "Requirement already satisfied: kiwisolver>=1.0.1 in c:\\users\\marce\\anaconda3\\envs\\aiml\\lib\\site-packages (from matplotlib->livelossplot==0.5.4) (1.4.4)\n",
      "Requirement already satisfied: pyparsing>=2.2.1 in c:\\users\\marce\\anaconda3\\envs\\aiml\\lib\\site-packages (from matplotlib->livelossplot==0.5.4) (3.1.2)\n",
      "Requirement already satisfied: parso<0.9.0,>=0.8.0 in c:\\users\\marce\\anaconda3\\envs\\aiml\\lib\\site-packages (from jedi>=0.16->ipython->livelossplot==0.5.4) (0.8.3)\n",
      "Requirement already satisfied: MarkupSafe>=2.0 in c:\\users\\marce\\anaconda3\\envs\\aiml\\lib\\site-packages (from Jinja2>=2.7->bokeh->livelossplot==0.5.4) (2.1.1)\n",
      "Requirement already satisfied: wcwidth in c:\\users\\marce\\anaconda3\\envs\\aiml\\lib\\site-packages (from prompt-toolkit!=3.0.0,!=3.0.1,<3.1.0,>=2.0.0->ipython->livelossplot==0.5.4) (0.2.5)\n",
      "Requirement already satisfied: six>=1.5 in c:\\users\\marce\\anaconda3\\envs\\aiml\\lib\\site-packages (from python-dateutil>=2.1->bokeh->livelossplot==0.5.4) (1.16.0)\n",
      "Collecting pytest==7.1.1\n",
      "  Using cached pytest-7.1.1-py3-none-any.whl.metadata (7.8 kB)\n",
      "Requirement already satisfied: attrs>=19.2.0 in c:\\users\\marce\\anaconda3\\envs\\aiml\\lib\\site-packages (from pytest==7.1.1) (22.1.0)\n",
      "Collecting iniconfig (from pytest==7.1.1)\n",
      "  Using cached iniconfig-2.0.0-py3-none-any.whl.metadata (2.6 kB)\n",
      "Requirement already satisfied: packaging in c:\\users\\marce\\anaconda3\\envs\\aiml\\lib\\site-packages (from pytest==7.1.1) (22.0)\n",
      "Collecting pluggy<2.0,>=0.12 (from pytest==7.1.1)\n",
      "  Using cached pluggy-1.2.0-py3-none-any.whl.metadata (4.4 kB)\n",
      "Collecting py>=1.8.2 (from pytest==7.1.1)\n",
      "  Using cached py-1.11.0-py2.py3-none-any.whl.metadata (2.8 kB)\n",
      "Requirement already satisfied: tomli>=1.0.0 in c:\\users\\marce\\anaconda3\\envs\\aiml\\lib\\site-packages (from pytest==7.1.1) (2.0.1)\n",
      "Requirement already satisfied: importlib-metadata>=0.12 in c:\\users\\marce\\anaconda3\\envs\\aiml\\lib\\site-packages (from pytest==7.1.1) (4.11.3)\n",
      "Collecting atomicwrites>=1.0 (from pytest==7.1.1)\n",
      "  Using cached atomicwrites-1.4.1.tar.gz (14 kB)\n",
      "  Preparing metadata (setup.py): started\n",
      "  Preparing metadata (setup.py): finished with status 'error'\n"
     ]
    },
    {
     "name": "stderr",
     "output_type": "stream",
     "text": [
      "  error: subprocess-exited-with-error\n",
      "  \n",
      "  python setup.py egg_info did not run successfully.\n",
      "  exit code: 1\n",
      "  \n",
      "  [35 lines of output]\n",
      "  C:\\Users\\marce\\anaconda3\\envs\\AIML\\lib\\site-packages\\setuptools\\dist.py:805: SetuptoolsDeprecationWarning: Deprecated API usage.\n",
      "  !!\n",
      "  \n",
      "          ********************************************************************************\n",
      "          As setuptools moves its configuration towards `pyproject.toml`,\n",
      "          `setuptools.config.parse_configuration` became deprecated.\n",
      "  \n",
      "          For the time being, you can use the `setuptools.config.setupcfg` module\n",
      "          to access a backward compatible API, but this module is provisional\n",
      "          and might be removed in the future.\n",
      "  \n",
      "          To read project metadata, consider using\n",
      "          ``build.util.project_wheel_metadata`` (https://pypi.org/project/build/).\n",
      "          For simple scenarios, you can also try parsing the file directly\n",
      "          with the help of ``configparser``.\n",
      "          ********************************************************************************\n",
      "  \n",
      "  !!\n",
      "    self, self.command_options, ignore_option_errors=ignore_option_errors\n",
      "  Traceback (most recent call last):\n",
      "    File \"<string>\", line 36, in <module>\n",
      "    File \"<pip-setuptools-caller>\", line 34, in <module>\n",
      "    File \"C:\\Users\\marce\\AppData\\Local\\Temp\\pip-install-0qpcyz85\\atomicwrites_94a07582655b49bf8b1a4c2c9a01c857\\setup.py\", line 39, in <module>\n",
      "      python_requires='>=2.7, !=3.0.*, !=3.1.*, !=3.2.*, !=3.3.*',\n",
      "    File \"C:\\Users\\marce\\anaconda3\\envs\\AIML\\lib\\site-packages\\setuptools\\__init__.py\", line 152, in setup\n",
      "      _install_setup_requires(attrs)\n",
      "    File \"C:\\Users\\marce\\anaconda3\\envs\\AIML\\lib\\site-packages\\setuptools\\__init__.py\", line 145, in _install_setup_requires\n",
      "      dist.parse_config_files(ignore_option_errors=True)\n",
      "    File \"C:\\Users\\marce\\anaconda3\\envs\\AIML\\lib\\site-packages\\setuptools\\dist.py\", line 805, in parse_config_files\n",
      "      self, self.command_options, ignore_option_errors=ignore_option_errors\n",
      "    File \"C:\\Users\\marce\\anaconda3\\envs\\AIML\\lib\\site-packages\\setuptools\\config\\__init__.py\", line 36, in _wrapper\n",
      "      return fn(*args, **kwargs)\n",
      "    File \"C:\\Users\\marce\\anaconda3\\envs\\AIML\\lib\\site-packages\\setuptools\\config\\setupcfg.py\", line 190, in parse_configuration\n",
      "      distribution._referenced_files.update(\n",
      "  AttributeError: 'MinimalDistribution' object has no attribute '_referenced_files'\n",
      "  [end of output]\n",
      "  \n",
      "  note: This error originates from a subprocess, and is likely not a problem with pip.\n",
      "error: metadata-generation-failed\n",
      "\n",
      "Encountered error while generating package metadata.\n",
      "\n",
      "See above for output.\n",
      "\n",
      "note: This is an issue with the package mentioned above, not pip.\n",
      "hint: See above for details.\n"
     ]
    },
    {
     "name": "stdout",
     "output_type": "stream",
     "text": [
      "Requirement already satisfied: pandas==1.3.5 in c:\\users\\marce\\anaconda3\\envs\\aiml\\lib\\site-packages (1.3.5)\n",
      "Requirement already satisfied: python-dateutil>=2.7.3 in c:\\users\\marce\\anaconda3\\envs\\aiml\\lib\\site-packages (from pandas==1.3.5) (2.8.2)\n",
      "Requirement already satisfied: pytz>=2017.3 in c:\\users\\marce\\anaconda3\\envs\\aiml\\lib\\site-packages (from pandas==1.3.5) (2022.7)\n",
      "Requirement already satisfied: numpy>=1.17.3 in c:\\users\\marce\\anaconda3\\envs\\aiml\\lib\\site-packages (from pandas==1.3.5) (1.21.2)\n",
      "Requirement already satisfied: six>=1.5 in c:\\users\\marce\\anaconda3\\envs\\aiml\\lib\\site-packages (from python-dateutil>=2.7.3->pandas==1.3.5) (1.16.0)\n"
     ]
    },
    {
     "name": "stderr",
     "output_type": "stream",
     "text": [
      "DEPRECATION: pytorch-lightning 1.7.7 has a non-standard dependency specifier torch>=1.9.*. pip 24.1 will enforce this behaviour change. A possible replacement is to upgrade to a newer version of pytorch-lightning or contact the author to suggest that they release a version with a conforming dependency specifiers. Discussion can be found at https://github.com/pypa/pip/issues/12063\n"
     ]
    },
    {
     "name": "stdout",
     "output_type": "stream",
     "text": [
      "Requirement already satisfied: seaborn==0.11.2 in c:\\users\\marce\\anaconda3\\envs\\aiml\\lib\\site-packages (0.11.2)\n",
      "Requirement already satisfied: numpy>=1.15 in c:\\users\\marce\\anaconda3\\envs\\aiml\\lib\\site-packages (from seaborn==0.11.2) (1.21.2)\n",
      "Requirement already satisfied: scipy>=1.0 in c:\\users\\marce\\anaconda3\\envs\\aiml\\lib\\site-packages (from seaborn==0.11.2) (1.7.1)\n",
      "Requirement already satisfied: pandas>=0.23 in c:\\users\\marce\\anaconda3\\envs\\aiml\\lib\\site-packages (from seaborn==0.11.2) (1.3.5)\n",
      "Requirement already satisfied: matplotlib>=2.2 in c:\\users\\marce\\anaconda3\\envs\\aiml\\lib\\site-packages (from seaborn==0.11.2) (3.4.3)\n",
      "Requirement already satisfied: cycler>=0.10 in c:\\users\\marce\\anaconda3\\envs\\aiml\\lib\\site-packages (from matplotlib>=2.2->seaborn==0.11.2) (0.11.0)\n",
      "Requirement already satisfied: kiwisolver>=1.0.1 in c:\\users\\marce\\anaconda3\\envs\\aiml\\lib\\site-packages (from matplotlib>=2.2->seaborn==0.11.2) (1.4.4)\n",
      "Requirement already satisfied: pillow>=6.2.0 in c:\\users\\marce\\anaconda3\\envs\\aiml\\lib\\site-packages (from matplotlib>=2.2->seaborn==0.11.2) (7.0.0)\n",
      "Requirement already satisfied: pyparsing>=2.2.1 in c:\\users\\marce\\anaconda3\\envs\\aiml\\lib\\site-packages (from matplotlib>=2.2->seaborn==0.11.2) (3.1.2)\n",
      "Requirement already satisfied: python-dateutil>=2.7 in c:\\users\\marce\\anaconda3\\envs\\aiml\\lib\\site-packages (from matplotlib>=2.2->seaborn==0.11.2) (2.8.2)\n",
      "Requirement already satisfied: pytz>=2017.3 in c:\\users\\marce\\anaconda3\\envs\\aiml\\lib\\site-packages (from pandas>=0.23->seaborn==0.11.2) (2022.7)\n",
      "Requirement already satisfied: typing-extensions in c:\\users\\marce\\anaconda3\\envs\\aiml\\lib\\site-packages (from kiwisolver>=1.0.1->matplotlib>=2.2->seaborn==0.11.2) (4.4.0)\n",
      "Requirement already satisfied: six>=1.5 in c:\\users\\marce\\anaconda3\\envs\\aiml\\lib\\site-packages (from python-dateutil>=2.7->matplotlib>=2.2->seaborn==0.11.2) (1.16.0)\n"
     ]
    },
    {
     "name": "stderr",
     "output_type": "stream",
     "text": [
      "DEPRECATION: pytorch-lightning 1.7.7 has a non-standard dependency specifier torch>=1.9.*. pip 24.1 will enforce this behaviour change. A possible replacement is to upgrade to a newer version of pytorch-lightning or contact the author to suggest that they release a version with a conforming dependency specifiers. Discussion can be found at https://github.com/pypa/pip/issues/12063\n"
     ]
    },
    {
     "name": "stdout",
     "output_type": "stream",
     "text": [
      "Requirement already satisfied: jupyter==1.0.0 in c:\\users\\marce\\anaconda3\\envs\\aiml\\lib\\site-packages (1.0.0)\n",
      "Requirement already satisfied: notebook in c:\\users\\marce\\anaconda3\\envs\\aiml\\lib\\site-packages (from jupyter==1.0.0) (6.5.2)\n",
      "Requirement already satisfied: qtconsole in c:\\users\\marce\\anaconda3\\envs\\aiml\\lib\\site-packages (from jupyter==1.0.0) (5.4.4)\n",
      "Requirement already satisfied: jupyter-console in c:\\users\\marce\\anaconda3\\envs\\aiml\\lib\\site-packages (from jupyter==1.0.0) (6.6.3)\n",
      "Requirement already satisfied: nbconvert in c:\\users\\marce\\anaconda3\\envs\\aiml\\lib\\site-packages (from jupyter==1.0.0) (6.5.4)\n",
      "Requirement already satisfied: ipykernel in c:\\users\\marce\\anaconda3\\envs\\aiml\\lib\\site-packages (from jupyter==1.0.0) (4.10.0)\n",
      "Requirement already satisfied: ipywidgets in c:\\users\\marce\\anaconda3\\envs\\aiml\\lib\\site-packages (from jupyter==1.0.0) (7.7.0)\n",
      "Requirement already satisfied: ipython>=4.0.0 in c:\\users\\marce\\anaconda3\\envs\\aiml\\lib\\site-packages (from ipykernel->jupyter==1.0.0) (7.31.1)\n",
      "Requirement already satisfied: traitlets>=4.1.0 in c:\\users\\marce\\anaconda3\\envs\\aiml\\lib\\site-packages (from ipykernel->jupyter==1.0.0) (5.7.1)\n",
      "Requirement already satisfied: jupyter-client in c:\\users\\marce\\anaconda3\\envs\\aiml\\lib\\site-packages (from ipykernel->jupyter==1.0.0) (7.3.4)\n",
      "Requirement already satisfied: tornado>=4.0 in c:\\users\\marce\\anaconda3\\envs\\aiml\\lib\\site-packages (from ipykernel->jupyter==1.0.0) (6.1)\n",
      "Requirement already satisfied: ipython-genutils~=0.2.0 in c:\\users\\marce\\anaconda3\\envs\\aiml\\lib\\site-packages (from ipywidgets->jupyter==1.0.0) (0.2.0)\n"
     ]
    },
    {
     "name": "stderr",
     "output_type": "stream",
     "text": [
      "DEPRECATION: pytorch-lightning 1.7.7 has a non-standard dependency specifier torch>=1.9.*. pip 24.1 will enforce this behaviour change. A possible replacement is to upgrade to a newer version of pytorch-lightning or contact the author to suggest that they release a version with a conforming dependency specifiers. Discussion can be found at https://github.com/pypa/pip/issues/12063\n"
     ]
    },
    {
     "name": "stdout",
     "output_type": "stream",
     "text": [
      "Requirement already satisfied: nbformat>=4.2.0 in c:\\users\\marce\\anaconda3\\envs\\aiml\\lib\\site-packages (from ipywidgets->jupyter==1.0.0) (5.7.0)\n",
      "Requirement already satisfied: widgetsnbextension~=3.6.0 in c:\\users\\marce\\anaconda3\\envs\\aiml\\lib\\site-packages (from ipywidgets->jupyter==1.0.0) (3.6.6)\n",
      "Requirement already satisfied: jupyterlab-widgets>=1.0.0 in c:\\users\\marce\\anaconda3\\envs\\aiml\\lib\\site-packages (from ipywidgets->jupyter==1.0.0) (1.1.7)\n",
      "Collecting ipykernel (from jupyter==1.0.0)\n",
      "  Using cached ipykernel-6.16.2-py3-none-any.whl.metadata (5.6 kB)\n",
      "Requirement already satisfied: jupyter-core!=5.0.*,>=4.12 in c:\\users\\marce\\anaconda3\\envs\\aiml\\lib\\site-packages (from jupyter-console->jupyter==1.0.0) (4.12.0)\n",
      "Requirement already satisfied: prompt-toolkit>=3.0.30 in c:\\users\\marce\\anaconda3\\envs\\aiml\\lib\\site-packages (from jupyter-console->jupyter==1.0.0) (3.0.36)\n",
      "Requirement already satisfied: pygments in c:\\users\\marce\\anaconda3\\envs\\aiml\\lib\\site-packages (from jupyter-console->jupyter==1.0.0) (2.17.2)\n",
      "Requirement already satisfied: pyzmq>=17 in c:\\users\\marce\\anaconda3\\envs\\aiml\\lib\\site-packages (from jupyter-console->jupyter==1.0.0) (23.2.0)\n",
      "Requirement already satisfied: debugpy>=1.0 in c:\\users\\marce\\anaconda3\\envs\\aiml\\lib\\site-packages (from ipykernel->jupyter==1.0.0) (1.5.1)\n",
      "Requirement already satisfied: matplotlib-inline>=0.1 in c:\\users\\marce\\anaconda3\\envs\\aiml\\lib\\site-packages (from ipykernel->jupyter==1.0.0) (0.1.6)\n",
      "Requirement already satisfied: nest-asyncio in c:\\users\\marce\\anaconda3\\envs\\aiml\\lib\\site-packages (from ipykernel->jupyter==1.0.0) (1.5.6)\n",
      "Requirement already satisfied: packaging in c:\\users\\marce\\anaconda3\\envs\\aiml\\lib\\site-packages (from ipykernel->jupyter==1.0.0) (22.0)\n",
      "Requirement already satisfied: psutil in c:\\users\\marce\\anaconda3\\envs\\aiml\\lib\\site-packages (from ipykernel->jupyter==1.0.0) (5.9.0)\n",
      "Requirement already satisfied: lxml in c:\\users\\marce\\anaconda3\\envs\\aiml\\lib\\site-packages (from nbconvert->jupyter==1.0.0) (4.9.1)\n",
      "Requirement already satisfied: beautifulsoup4 in c:\\users\\marce\\anaconda3\\envs\\aiml\\lib\\site-packages (from nbconvert->jupyter==1.0.0) (4.11.1)\n",
      "Requirement already satisfied: bleach in c:\\users\\marce\\anaconda3\\envs\\aiml\\lib\\site-packages (from nbconvert->jupyter==1.0.0) (4.1.0)\n",
      "Requirement already satisfied: defusedxml in c:\\users\\marce\\anaconda3\\envs\\aiml\\lib\\site-packages (from nbconvert->jupyter==1.0.0) (0.7.1)\n",
      "Requirement already satisfied: entrypoints>=0.2.2 in c:\\users\\marce\\anaconda3\\envs\\aiml\\lib\\site-packages (from nbconvert->jupyter==1.0.0) (0.4)\n",
      "Requirement already satisfied: jinja2>=3.0 in c:\\users\\marce\\anaconda3\\envs\\aiml\\lib\\site-packages (from nbconvert->jupyter==1.0.0) (3.1.2)\n",
      "Requirement already satisfied: jupyterlab-pygments in c:\\users\\marce\\anaconda3\\envs\\aiml\\lib\\site-packages (from nbconvert->jupyter==1.0.0) (0.1.2)\n",
      "Requirement already satisfied: MarkupSafe>=2.0 in c:\\users\\marce\\anaconda3\\envs\\aiml\\lib\\site-packages (from nbconvert->jupyter==1.0.0) (2.1.1)\n",
      "Requirement already satisfied: mistune<2,>=0.8.1 in c:\\users\\marce\\anaconda3\\envs\\aiml\\lib\\site-packages (from nbconvert->jupyter==1.0.0) (0.8.4)\n",
      "Requirement already satisfied: nbclient>=0.5.0 in c:\\users\\marce\\anaconda3\\envs\\aiml\\lib\\site-packages (from nbconvert->jupyter==1.0.0) (0.5.13)\n",
      "Requirement already satisfied: pandocfilters>=1.4.1 in c:\\users\\marce\\anaconda3\\envs\\aiml\\lib\\site-packages (from nbconvert->jupyter==1.0.0) (1.5.0)\n",
      "Requirement already satisfied: tinycss2 in c:\\users\\marce\\anaconda3\\envs\\aiml\\lib\\site-packages (from nbconvert->jupyter==1.0.0) (1.2.1)\n",
      "Requirement already satisfied: argon2-cffi in c:\\users\\marce\\anaconda3\\envs\\aiml\\lib\\site-packages (from notebook->jupyter==1.0.0) (21.3.0)\n",
      "Requirement already satisfied: Send2Trash>=1.8.0 in c:\\users\\marce\\anaconda3\\envs\\aiml\\lib\\site-packages (from notebook->jupyter==1.0.0) (1.8.0)\n",
      "Requirement already satisfied: terminado>=0.8.3 in c:\\users\\marce\\anaconda3\\envs\\aiml\\lib\\site-packages (from notebook->jupyter==1.0.0) (0.17.1)\n",
      "Requirement already satisfied: prometheus-client in c:\\users\\marce\\anaconda3\\envs\\aiml\\lib\\site-packages (from notebook->jupyter==1.0.0) (0.14.1)\n",
      "Requirement already satisfied: nbclassic>=0.4.7 in c:\\users\\marce\\anaconda3\\envs\\aiml\\lib\\site-packages (from notebook->jupyter==1.0.0) (0.5.2)\n",
      "Requirement already satisfied: qtpy>=2.4.0 in c:\\users\\marce\\anaconda3\\envs\\aiml\\lib\\site-packages (from qtconsole->jupyter==1.0.0) (2.4.1)\n",
      "Requirement already satisfied: setuptools>=18.5 in c:\\users\\marce\\anaconda3\\envs\\aiml\\lib\\site-packages (from ipython>=4.0.0->ipykernel->jupyter==1.0.0) (59.8.0)\n",
      "Requirement already satisfied: jedi>=0.16 in c:\\users\\marce\\anaconda3\\envs\\aiml\\lib\\site-packages (from ipython>=4.0.0->ipykernel->jupyter==1.0.0) (0.18.1)\n",
      "Requirement already satisfied: decorator in c:\\users\\marce\\anaconda3\\envs\\aiml\\lib\\site-packages (from ipython>=4.0.0->ipykernel->jupyter==1.0.0) (5.1.1)\n",
      "Requirement already satisfied: pickleshare in c:\\users\\marce\\anaconda3\\envs\\aiml\\lib\\site-packages (from ipython>=4.0.0->ipykernel->jupyter==1.0.0) (0.7.5)\n",
      "Requirement already satisfied: backcall in c:\\users\\marce\\anaconda3\\envs\\aiml\\lib\\site-packages (from ipython>=4.0.0->ipykernel->jupyter==1.0.0) (0.2.0)\n",
      "Requirement already satisfied: colorama in c:\\users\\marce\\anaconda3\\envs\\aiml\\lib\\site-packages (from ipython>=4.0.0->ipykernel->jupyter==1.0.0) (0.4.6)\n",
      "Requirement already satisfied: python-dateutil>=2.8.2 in c:\\users\\marce\\anaconda3\\envs\\aiml\\lib\\site-packages (from jupyter-client->ipykernel->jupyter==1.0.0) (2.8.2)\n",
      "Requirement already satisfied: pywin32>=1.0 in c:\\users\\marce\\anaconda3\\envs\\aiml\\lib\\site-packages (from jupyter-core!=5.0.*,>=4.12->jupyter-console->jupyter==1.0.0) (305.1)\n",
      "Requirement already satisfied: jupyter-server>=1.8 in c:\\users\\marce\\anaconda3\\envs\\aiml\\lib\\site-packages (from nbclassic>=0.4.7->notebook->jupyter==1.0.0) (1.23.4)\n",
      "Requirement already satisfied: notebook-shim>=0.1.0 in c:\\users\\marce\\anaconda3\\envs\\aiml\\lib\\site-packages (from nbclassic>=0.4.7->notebook->jupyter==1.0.0) (0.2.2)\n",
      "Requirement already satisfied: fastjsonschema in c:\\users\\marce\\anaconda3\\envs\\aiml\\lib\\site-packages (from nbformat>=4.2.0->ipywidgets->jupyter==1.0.0) (2.16.2)\n",
      "Requirement already satisfied: importlib-metadata>=3.6 in c:\\users\\marce\\anaconda3\\envs\\aiml\\lib\\site-packages (from nbformat>=4.2.0->ipywidgets->jupyter==1.0.0) (4.11.3)\n",
      "Requirement already satisfied: jsonschema>=2.6 in c:\\users\\marce\\anaconda3\\envs\\aiml\\lib\\site-packages (from nbformat>=4.2.0->ipywidgets->jupyter==1.0.0) (4.8.0)\n",
      "Requirement already satisfied: wcwidth in c:\\users\\marce\\anaconda3\\envs\\aiml\\lib\\site-packages (from prompt-toolkit>=3.0.30->jupyter-console->jupyter==1.0.0) (0.2.5)\n",
      "Requirement already satisfied: pywinpty>=1.1.0 in c:\\users\\marce\\anaconda3\\envs\\aiml\\lib\\site-packages (from terminado>=0.8.3->notebook->jupyter==1.0.0) (2.0.10)\n",
      "Requirement already satisfied: argon2-cffi-bindings in c:\\users\\marce\\anaconda3\\envs\\aiml\\lib\\site-packages (from argon2-cffi->notebook->jupyter==1.0.0) (21.2.0)\n",
      "Requirement already satisfied: typing-extensions in c:\\users\\marce\\anaconda3\\envs\\aiml\\lib\\site-packages (from argon2-cffi->notebook->jupyter==1.0.0) (4.4.0)\n",
      "Requirement already satisfied: soupsieve>1.2 in c:\\users\\marce\\anaconda3\\envs\\aiml\\lib\\site-packages (from beautifulsoup4->nbconvert->jupyter==1.0.0) (2.3.2.post1)\n",
      "Requirement already satisfied: six>=1.9.0 in c:\\users\\marce\\anaconda3\\envs\\aiml\\lib\\site-packages (from bleach->nbconvert->jupyter==1.0.0) (1.16.0)\n",
      "Requirement already satisfied: webencodings in c:\\users\\marce\\anaconda3\\envs\\aiml\\lib\\site-packages (from bleach->nbconvert->jupyter==1.0.0) (0.5.1)\n",
      "Requirement already satisfied: zipp>=0.5 in c:\\users\\marce\\anaconda3\\envs\\aiml\\lib\\site-packages (from importlib-metadata>=3.6->nbformat>=4.2.0->ipywidgets->jupyter==1.0.0) (3.11.0)\n",
      "Requirement already satisfied: parso<0.9.0,>=0.8.0 in c:\\users\\marce\\anaconda3\\envs\\aiml\\lib\\site-packages (from jedi>=0.16->ipython>=4.0.0->ipykernel->jupyter==1.0.0) (0.8.3)\n",
      "Requirement already satisfied: attrs>=17.4.0 in c:\\users\\marce\\anaconda3\\envs\\aiml\\lib\\site-packages (from jsonschema>=2.6->nbformat>=4.2.0->ipywidgets->jupyter==1.0.0) (22.1.0)\n",
      "Requirement already satisfied: importlib-resources>=1.4.0 in c:\\users\\marce\\anaconda3\\envs\\aiml\\lib\\site-packages (from jsonschema>=2.6->nbformat>=4.2.0->ipywidgets->jupyter==1.0.0) (5.2.0)\n",
      "Requirement already satisfied: pyrsistent!=0.17.0,!=0.17.1,!=0.17.2,>=0.14.0 in c:\\users\\marce\\anaconda3\\envs\\aiml\\lib\\site-packages (from jsonschema>=2.6->nbformat>=4.2.0->ipywidgets->jupyter==1.0.0) (0.18.0)\n",
      "Requirement already satisfied: anyio<4,>=3.1.0 in c:\\users\\marce\\anaconda3\\envs\\aiml\\lib\\site-packages (from jupyter-server>=1.8->nbclassic>=0.4.7->notebook->jupyter==1.0.0) (3.5.0)\n",
      "Requirement already satisfied: websocket-client in c:\\users\\marce\\anaconda3\\envs\\aiml\\lib\\site-packages (from jupyter-server>=1.8->nbclassic>=0.4.7->notebook->jupyter==1.0.0) (0.58.0)\n",
      "Requirement already satisfied: cffi>=1.0.1 in c:\\users\\marce\\anaconda3\\envs\\aiml\\lib\\site-packages (from argon2-cffi-bindings->argon2-cffi->notebook->jupyter==1.0.0) (1.15.1)\n",
      "Requirement already satisfied: idna>=2.8 in c:\\users\\marce\\anaconda3\\envs\\aiml\\lib\\site-packages (from anyio<4,>=3.1.0->jupyter-server>=1.8->nbclassic>=0.4.7->notebook->jupyter==1.0.0) (3.7)\n",
      "Requirement already satisfied: sniffio>=1.1 in c:\\users\\marce\\anaconda3\\envs\\aiml\\lib\\site-packages (from anyio<4,>=3.1.0->jupyter-server>=1.8->nbclassic>=0.4.7->notebook->jupyter==1.0.0) (1.2.0)\n",
      "Requirement already satisfied: pycparser in c:\\users\\marce\\anaconda3\\envs\\aiml\\lib\\site-packages (from cffi>=1.0.1->argon2-cffi-bindings->argon2-cffi->notebook->jupyter==1.0.0) (2.21)\n",
      "Using cached ipykernel-6.16.2-py3-none-any.whl (138 kB)\n",
      "Installing collected packages: ipykernel\n",
      "  Attempting uninstall: ipykernel\n",
      "    Found existing installation: ipykernel 4.10.0\n",
      "    Uninstalling ipykernel-4.10.0:\n",
      "      Successfully uninstalled ipykernel-4.10.0\n",
      "Successfully installed ipykernel-6.16.2\n",
      "Collecting ipykernel==4.10.0\n",
      "  Using cached ipykernel-4.10.0-py3-none-any.whl.metadata (1.1 kB)\n",
      "Requirement already satisfied: ipython>=4.0.0 in c:\\users\\marce\\anaconda3\\envs\\aiml\\lib\\site-packages (from ipykernel==4.10.0) (7.31.1)\n",
      "Requirement already satisfied: traitlets>=4.1.0 in c:\\users\\marce\\anaconda3\\envs\\aiml\\lib\\site-packages (from ipykernel==4.10.0) (5.7.1)\n",
      "Requirement already satisfied: jupyter-client in c:\\users\\marce\\anaconda3\\envs\\aiml\\lib\\site-packages (from ipykernel==4.10.0) (7.3.4)\n",
      "Requirement already satisfied: tornado>=4.0 in c:\\users\\marce\\anaconda3\\envs\\aiml\\lib\\site-packages (from ipykernel==4.10.0) (6.1)\n",
      "Requirement already satisfied: setuptools>=18.5 in c:\\users\\marce\\anaconda3\\envs\\aiml\\lib\\site-packages (from ipython>=4.0.0->ipykernel==4.10.0) (59.8.0)\n",
      "Requirement already satisfied: jedi>=0.16 in c:\\users\\marce\\anaconda3\\envs\\aiml\\lib\\site-packages (from ipython>=4.0.0->ipykernel==4.10.0) (0.18.1)\n",
      "Requirement already satisfied: decorator in c:\\users\\marce\\anaconda3\\envs\\aiml\\lib\\site-packages (from ipython>=4.0.0->ipykernel==4.10.0) (5.1.1)\n",
      "Requirement already satisfied: pickleshare in c:\\users\\marce\\anaconda3\\envs\\aiml\\lib\\site-packages (from ipython>=4.0.0->ipykernel==4.10.0) (0.7.5)\n",
      "Requirement already satisfied: prompt-toolkit!=3.0.0,!=3.0.1,<3.1.0,>=2.0.0 in c:\\users\\marce\\anaconda3\\envs\\aiml\\lib\\site-packages (from ipython>=4.0.0->ipykernel==4.10.0) (3.0.36)\n",
      "Requirement already satisfied: pygments in c:\\users\\marce\\anaconda3\\envs\\aiml\\lib\\site-packages (from ipython>=4.0.0->ipykernel==4.10.0) (2.17.2)\n",
      "Requirement already satisfied: backcall in c:\\users\\marce\\anaconda3\\envs\\aiml\\lib\\site-packages (from ipython>=4.0.0->ipykernel==4.10.0) (0.2.0)\n",
      "Requirement already satisfied: matplotlib-inline in c:\\users\\marce\\anaconda3\\envs\\aiml\\lib\\site-packages (from ipython>=4.0.0->ipykernel==4.10.0) (0.1.6)\n",
      "Requirement already satisfied: colorama in c:\\users\\marce\\anaconda3\\envs\\aiml\\lib\\site-packages (from ipython>=4.0.0->ipykernel==4.10.0) (0.4.6)\n",
      "Requirement already satisfied: entrypoints in c:\\users\\marce\\anaconda3\\envs\\aiml\\lib\\site-packages (from jupyter-client->ipykernel==4.10.0) (0.4)\n",
      "Requirement already satisfied: jupyter-core>=4.9.2 in c:\\users\\marce\\anaconda3\\envs\\aiml\\lib\\site-packages (from jupyter-client->ipykernel==4.10.0) (4.12.0)\n",
      "Requirement already satisfied: nest-asyncio>=1.5.4 in c:\\users\\marce\\anaconda3\\envs\\aiml\\lib\\site-packages (from jupyter-client->ipykernel==4.10.0) (1.5.6)\n",
      "Requirement already satisfied: python-dateutil>=2.8.2 in c:\\users\\marce\\anaconda3\\envs\\aiml\\lib\\site-packages (from jupyter-client->ipykernel==4.10.0) (2.8.2)\n",
      "Requirement already satisfied: pyzmq>=23.0 in c:\\users\\marce\\anaconda3\\envs\\aiml\\lib\\site-packages (from jupyter-client->ipykernel==4.10.0) (23.2.0)\n",
      "Requirement already satisfied: parso<0.9.0,>=0.8.0 in c:\\users\\marce\\anaconda3\\envs\\aiml\\lib\\site-packages (from jedi>=0.16->ipython>=4.0.0->ipykernel==4.10.0) (0.8.3)\n",
      "Requirement already satisfied: pywin32>=1.0 in c:\\users\\marce\\anaconda3\\envs\\aiml\\lib\\site-packages (from jupyter-core>=4.9.2->jupyter-client->ipykernel==4.10.0) (305.1)\n",
      "Requirement already satisfied: wcwidth in c:\\users\\marce\\anaconda3\\envs\\aiml\\lib\\site-packages (from prompt-toolkit!=3.0.0,!=3.0.1,<3.1.0,>=2.0.0->ipython>=4.0.0->ipykernel==4.10.0) (0.2.5)\n",
      "Requirement already satisfied: six>=1.5 in c:\\users\\marce\\anaconda3\\envs\\aiml\\lib\\site-packages (from python-dateutil>=2.8.2->jupyter-client->ipykernel==4.10.0) (1.16.0)\n",
      "Using cached ipykernel-4.10.0-py3-none-any.whl (109 kB)\n",
      "Installing collected packages: ipykernel\n",
      "  Attempting uninstall: ipykernel\n",
      "    Found existing installation: ipykernel 6.16.2\n",
      "    Uninstalling ipykernel-6.16.2:\n",
      "      Successfully uninstalled ipykernel-6.16.2\n",
      "Successfully installed ipykernel-4.10.0\n"
     ]
    },
    {
     "name": "stderr",
     "output_type": "stream",
     "text": [
      "DEPRECATION: pytorch-lightning 1.7.7 has a non-standard dependency specifier torch>=1.9.*. pip 24.1 will enforce this behaviour change. A possible replacement is to upgrade to a newer version of pytorch-lightning or contact the author to suggest that they release a version with a conforming dependency specifiers. Discussion can be found at https://github.com/pypa/pip/issues/12063\n",
      "ERROR: pip's dependency resolver does not currently take into account all the packages that are installed. This behaviour is the source of the following dependency conflicts.\n",
      "jupyter-console 6.6.3 requires ipykernel>=6.14, but you have ipykernel 4.10.0 which is incompatible.\n"
     ]
    }
   ],
   "source": [
    "# Install requirements one by one\n",
    "!pip install opencv-python-headless==4.5.3.56\n",
    "!pip install matplotlib==3.4.3\n",
    "!pip install numpy==1.21.2\n",
    "!pip install pillow==7.0.0\n",
    "!pip install bokeh==2.1.1\n",
    "!pip install torch==1.11.0\n",
    "!pip install torchvision==0.12.0\n",
    "!pip install tqdm==4.63.0\n",
    "!pip install ipywidgets==7.7.0\n",
    "!pip install livelossplot==0.5.4\n",
    "!pip install pytest==7.1.1\n",
    "!pip install pandas==1.3.5\n",
    "!pip install seaborn==0.11.2\n",
    "!pip install jupyter==1.0.0\n",
    "!pip install ipykernel==4.10.0"
   ]
  },
  {
   "cell_type": "markdown",
   "metadata": {},
   "source": [
    "## Imports"
   ]
  },
  {
   "cell_type": "code",
   "execution_count": 3,
   "metadata": {},
   "outputs": [],
   "source": [
    "## This cell contains the essential imports you will need – DO NOT CHANGE THE CONTENTS! ##\n",
    "import torch\n",
    "import torch.nn as nn\n",
    "import torch.nn.functional as F\n",
    "import torch.optim as optim\n",
    "import torchvision\n",
    "import torchvision.transforms as transforms\n",
    "import matplotlib.pyplot as plt\n",
    "import numpy as np"
   ]
  },
  {
   "cell_type": "markdown",
   "metadata": {},
   "source": [
    "## Load the Dataset\n",
    "\n",
    "Specify your transforms as a list if you intend to .\n",
    "The transforms module is already loaded as `transforms`.\n",
    "\n",
    "MNIST is fortunately included in the torchvision module.\n",
    "Then, you can create your dataset using the `MNIST` object from `torchvision.datasets` ([the documentation is available here](https://pytorch.org/vision/stable/datasets.html#mnist)).\n",
    "Make sure to specify `download=True`! \n",
    "\n",
    "Once your dataset is created, you'll also need to define a `DataLoader` from the `torch.utils.data` module for both the train and the test set."
   ]
  },
  {
   "cell_type": "code",
   "execution_count": 19,
   "metadata": {},
   "outputs": [],
   "source": [
    "# Define transforms\n",
    "transform = transforms.Compose([\n",
    "    transforms.ToTensor(),\n",
    "    transforms.Normalize((0.5,), (0.5,))\n",
    "])\n",
    "\n",
    "# Load the dataset and split into training, validation, and test sets\n",
    "train_set = torchvision.datasets.MNIST(root='./data', train=True, download=True, transform=transform)\n",
    "train_size = int(0.8 * len(train_set))\n",
    "val_size = len(train_set) - train_size\n",
    "train_set, val_set = torch.utils.data.random_split(train_set, [train_size, val_size])\n",
    "\n",
    "test_set = torchvision.datasets.MNIST(root='./data', train=False, download=True, transform=transform)\n",
    "test_loader = torch.utils.data.DataLoader(test_set, batch_size=64, shuffle=False)\n",
    "\n",
    "# Define data loaders for training, validation, and test sets\n",
    "train_loader = torch.utils.data.DataLoader(train_set, batch_size=64, shuffle=True)\n",
    "val_loader = torch.utils.data.DataLoader(val_set, batch_size=64, shuffle=False)\n"
   ]
  },
  {
   "cell_type": "markdown",
   "metadata": {},
   "source": [
    "## Justify your preprocessing\n",
    "\n",
    "In your own words, why did you choose the transforms you chose? If you didn't use any preprocessing steps, why not?"
   ]
  },
  {
   "cell_type": "markdown",
   "metadata": {},
   "source": [
    "### Preprocessing Justification\n",
    "\n",
    "To prepare the data for training a neural network effectively transformers or preprocessors are used to prepare the images for training.  In this project they were used to convert images to tensors and normalising pixel values.  Transforming the images to tensors turns the images into a format that the computer can store, process and feed into a neural network.  Normalisation adjusts the brightness of the pixel values to a similar scale, stabilising and speeding up the training process helping it learn more effectively."
   ]
  },
  {
   "cell_type": "markdown",
   "metadata": {},
   "source": [
    "## Explore the Dataset\n",
    "Using matplotlib, numpy, and torch, explore the dimensions of your data.\n",
    "\n",
    "You can view images using the `show5` function defined below – it takes a data loader as an argument.\n",
    "Remember that normalized images will look really weird to you! You may want to try changing your transforms to view images.\n",
    "Typically using no transforms other than `toTensor()` works well for viewing – but not as well for training your network.\n",
    "If `show5` doesn't work, go back and check your code for creating your data loaders and your training/test sets."
   ]
  },
  {
   "cell_type": "code",
   "execution_count": 20,
   "metadata": {},
   "outputs": [],
   "source": [
    "## This cell contains a function for showing 5 images from a dataloader – DO NOT CHANGE THE CONTENTS! ##\n",
    "def show5(img_loader):\n",
    "    dataiter = iter(img_loader)\n",
    "    \n",
    "    batch = next(dataiter)\n",
    "    labels = batch[1][0:5]\n",
    "    images = batch[0][0:5]\n",
    "    for i in range(5):\n",
    "        print(int(labels[i].detach()))\n",
    "    \n",
    "        image = images[i].numpy()\n",
    "        plt.imshow(image.T.squeeze().T)\n",
    "        plt.show()"
   ]
  },
  {
   "cell_type": "code",
   "execution_count": 21,
   "metadata": {},
   "outputs": [
    {
     "name": "stdout",
     "output_type": "stream",
     "text": [
      "Training dataset size: 48000\n",
      "Test dataset size: 10000\n",
      "Shape of training images: torch.Size([64, 1, 28, 28])\n",
      "Shape of training labels: torch.Size([64])\n",
      "Shape of test images: torch.Size([64, 1, 28, 28])\n",
      "Shape of test labels: torch.Size([64])\n",
      "Sample of images from the training dataset\n"
     ]
    },
    {
     "data": {
      "image/png": "[encoded data removed]",
      "text/plain": [
       "<Figure size 1500x600 with 10 Axes>"
      ]
     },
     "metadata": {},
     "output_type": "display_data"
    },
    {
     "name": "stdout",
     "output_type": "stream",
     "text": [
      "Sample of images from the test dataset\n"
     ]
    },
    {
     "data": {
      "image/png": "[encoded data removed]",
      "text/plain": [
       "<Figure size 1500x600 with 10 Axes>"
      ]
     },
     "metadata": {},
     "output_type": "display_data"
    }
   ],
   "source": [
    "# Explore data\n",
    "print(\"Training dataset size:\", len(train_set))\n",
    "print(\"Test dataset size:\", len(test_set))\n",
    "\n",
    "# Print the shape of the images and labels\n",
    "print(\"Shape of training images:\", next(iter(train_loader))[0].shape)\n",
    "print(\"Shape of training labels:\", next(iter(train_loader))[1].shape)\n",
    "print(\"Shape of test images:\", next(iter(test_loader))[0].shape)\n",
    "print(\"Shape of test labels:\", next(iter(test_loader))[1].shape)\n",
    "\n",
    "\n",
    "def show_samples(dataset_loader):\n",
    "    dataiter = iter(dataset_loader)\n",
    "    images, labels = next(dataiter)\n",
    "    images = images.numpy()\n",
    "    \n",
    "    fig = plt.figure(figsize=(15, 6))\n",
    "    for idx in np.arange(10):\n",
    "        ax = fig.add_subplot(2, 5, idx+1, xticks=[], yticks=[])\n",
    "        ax.imshow(np.squeeze(images[idx]), cmap='gray')\n",
    "        ax.set_title(str(labels[idx].item()))\n",
    "\n",
    "\n",
    "# Show sample of images from the training dataset\n",
    "print(\"Sample of images from the training dataset\")\n",
    "show_samples(train_loader)\n",
    "plt.show()\n",
    "\n",
    "# Show sample of images from the test dataset\n",
    "print(\"Sample of images from the test dataset\")\n",
    "show_samples(test_loader)\n",
    "plt.show()"
   ]
  },
  {
   "cell_type": "markdown",
   "metadata": {},
   "source": [
    "## Build your Neural Network\n",
    "Using the layers in `torch.nn` (which has been imported as `nn`) and the `torch.nn.functional` module (imported as `F`), construct a neural network based on the parameters of the dataset.\n",
    "Use any architecture you like. \n",
    "\n",
    "*Note*: If you did not flatten your tensors in your transforms or as part of your preprocessing and you are using only `Linear` layers, make sure to use the `Flatten` layer in your network!"
   ]
  },
  {
   "cell_type": "code",
   "execution_count": 22,
   "metadata": {},
   "outputs": [],
   "source": [
    "# Define a CNN architecture\n",
    "class CNN(nn.Module):\n",
    "    def __init__(self):\n",
    "        super(CNN, self).__init__()\n",
    "        self.conv1 = nn.Conv2d(1, 32, 3, 1)\n",
    "        self.conv2 = nn.Conv2d(32, 64, 3, 1)\n",
    "        self.dropout1 = nn.Dropout2d(0.25)\n",
    "        self.dropout2 = nn.Dropout2d(0.5)\n",
    "        self.fc1 = nn.Linear(9216, 128)\n",
    "        self.fc2 = nn.Linear(128, 10)\n",
    "\n",
    "    def forward(self, x):\n",
    "        x = self.conv1(x)\n",
    "        x = F.relu(x)\n",
    "        x = self.conv2(x)\n",
    "        x = F.relu(x)\n",
    "        x = F.max_pool2d(x, 2)\n",
    "        x = self.dropout1(x)\n",
    "        x = torch.flatten(x, 1)\n",
    "        x = self.fc1(x)\n",
    "        x = F.relu(x)\n",
    "        x = self.dropout2(x)\n",
    "        x = self.fc2(x)\n",
    "        return F.log_softmax(x, dim=1)\n",
    "\n",
    "# Instantiate the CNN model\n",
    "model = CNN()"
   ]
  },
  {
   "cell_type": "markdown",
   "metadata": {},
   "source": [
    "Specify a loss function and an optimizer, and instantiate the model.\n",
    "\n",
    "If you use a less common loss function, please note why you chose that loss function in a comment."
   ]
  },
  {
   "cell_type": "code",
   "execution_count": 23,
   "metadata": {},
   "outputs": [],
   "source": [
    "# Specify loss function and optimizer\n",
    "criterion = nn.CrossEntropyLoss()\n",
    "optimizer = optim.Adam(model.parameters(), lr=0.001)"
   ]
  },
  {
   "cell_type": "markdown",
   "metadata": {},
   "source": [
    "## Running your Neural Network\n",
    "Use whatever method you like to train your neural network, and ensure you record the average loss at each epoch. \n",
    "Don't forget to use `torch.device()` and the `.to()` method for both your model and your data if you are using GPU!\n",
    "\n",
    "If you want to print your loss **during** each epoch, you can use the `enumerate` function and print the loss after a set number of batches. 250 batches works well for most people!"
   ]
  },
  {
   "cell_type": "code",
   "execution_count": 24,
   "metadata": {},
   "outputs": [
    {
     "name": "stdout",
     "output_type": "stream",
     "text": [
      "Device: cpu\n",
      "Epoch [1/5], Training Loss: 1.2557, Validation Loss: 0.1617\n",
      "Epoch [2/5], Training Loss: 1.1822, Validation Loss: 0.1263\n",
      "Epoch [3/5], Training Loss: 1.1782, Validation Loss: 0.0984\n",
      "Epoch [4/5], Training Loss: 1.1726, Validation Loss: 0.0715\n",
      "Epoch [5/5], Training Loss: 1.1762, Validation Loss: 0.0775\n",
      "Finish Training\n"
     ]
    }
   ],
   "source": [
    "# Define device\n",
    "device = torch.device(\"cuda\" if torch.cuda.is_available() else \"cpu\")\n",
    "print(\"Device:\", device)\n",
    "model.to(device)\n",
    "\n",
    "# Train the model with validation set\n",
    "train_losses, val_losses = [], []\n",
    "epochs = 5\n",
    "for epoch in range(epochs):\n",
    "    model.train()\n",
    "    running_loss = 0.0\n",
    "    for i, data in enumerate(train_loader, 0):\n",
    "        inputs, labels = data[0].to(device), data[1].to(device)\n",
    "        optimizer.zero_grad()\n",
    "        outputs = model(inputs)\n",
    "        loss = criterion(outputs, labels)\n",
    "        loss.backward()\n",
    "        optimizer.step()\n",
    "        running_loss += loss.item()\n",
    "    train_losses.append(running_loss / len(train_loader))\n",
    "    \n",
    "    # Evaluate on validation set\n",
    "    model.eval()\n",
    "    val_loss = 0.0\n",
    "    with torch.no_grad():\n",
    "        for data in val_loader:\n",
    "            inputs, labels = data[0].to(device), data[1].to(device)\n",
    "            outputs = model(inputs)\n",
    "            val_loss += criterion(outputs, labels).item()\n",
    "    val_losses.append(val_loss / len(val_loader))\n",
    "    print(f'Epoch [{epoch + 1}/{epochs}], '\n",
    "          f'Training Loss: {train_losses[-1]:.4f}, '\n",
    "          f'Validation Loss: {val_losses[-1]:.4f}')\n",
    "\n",
    "print('Finish Training')"
   ]
  },
  {
   "cell_type": "markdown",
   "metadata": {},
   "source": [
    "Plot the training loss (and validation loss/accuracy, if recorded)."
   ]
  },
  {
   "cell_type": "code",
   "execution_count": 25,
   "metadata": {},
   "outputs": [
    {
     "data": {
      "image/png": "[encoded data removed]",
      "text/plain": [
       "<Figure size 640x480 with 1 Axes>"
      ]
     },
     "metadata": {},
     "output_type": "display_data"
    }
   ],
   "source": [
    "# Plot training and validation loss\n",
    "plt.plot(train_losses, label='Training Loss')\n",
    "plt.plot(val_losses, label='Validation Loss')\n",
    "plt.xlabel('Epoch')\n",
    "plt.ylabel('Loss')\n",
    "plt.legend()\n",
    "plt.show()"
   ]
  },
  {
   "cell_type": "markdown",
   "metadata": {},
   "source": [
    "This plot indicates that the model is overfitting to the training data."
   ]
  },
  {
   "cell_type": "markdown",
   "metadata": {},
   "source": [
    "## Testing your model\n",
    "Using the previously created `DataLoader` for the test set, compute the percentage of correct predictions using the highest probability prediction. \n",
    "\n",
    "If your accuracy is over 90%, great work, but see if you can push a bit further! \n",
    "If your accuracy is under 90%, you'll need to make improvements.\n",
    "Go back and check your model architecture, loss function, and optimizer to make sure they're appropriate for an image classification task."
   ]
  },
  {
   "cell_type": "code",
   "execution_count": 26,
   "metadata": {},
   "outputs": [
    {
     "name": "stdout",
     "output_type": "stream",
     "text": [
      "Accuracy of the network on the test images: 98.76%\n"
     ]
    }
   ],
   "source": [
    "# Test the model on the test set\n",
    "correct = 0\n",
    "total = 0\n",
    "with torch.no_grad():\n",
    "    for data in test_loader:\n",
    "        inputs, labels = data[0].to(device), data[1].to(device)\n",
    "        outputs = model(inputs)\n",
    "        _, predicted = torch.max(outputs.data, 1)\n",
    "        total += labels.size(0)\n",
    "        correct += (predicted == labels).sum().item()\n",
    "\n",
    "print('Accuracy of the network on the test images: {:.2f}%'.format(100 * correct / total))"
   ]
  },
  {
   "cell_type": "markdown",
   "metadata": {},
   "source": [
    "## Improving your model\n",
    "\n",
    "Once your model is done training, try tweaking your hyperparameters and training again below to improve your accuracy on the test set!"
   ]
  },
  {
   "cell_type": "code",
   "execution_count": 27,
   "metadata": {},
   "outputs": [
    {
     "name": "stdout",
     "output_type": "stream",
     "text": [
      "Device: cpu\n",
      "Epoch [1/10], Training Loss: 1.1567, Validation Loss: 0.0530\n",
      "Epoch [2/10], Training Loss: 1.1618, Validation Loss: 0.0396\n",
      "Epoch [3/10], Training Loss: 1.1520, Validation Loss: 0.0368\n",
      "Epoch [4/10], Training Loss: 1.1493, Validation Loss: 0.0367\n",
      "Epoch [5/10], Training Loss: 1.1552, Validation Loss: 0.0370\n",
      "Epoch [6/10], Training Loss: 1.1374, Validation Loss: 0.0366\n",
      "Epoch [7/10], Training Loss: 1.1582, Validation Loss: 0.0321\n",
      "Epoch [8/10], Training Loss: 1.1585, Validation Loss: 0.0299\n",
      "Epoch [9/10], Training Loss: 1.1521, Validation Loss: 0.0306\n",
      "Epoch [10/10], Training Loss: 1.1464, Validation Loss: 0.0350\n",
      "Finish Training\n"
     ]
    }
   ],
   "source": [
    "# Tweak hyperparameters\n",
    "optimizer = optim.Adam(model.parameters(), lr=0.0005)  # Adjust learning rate\n",
    "epochs = 10  # Increase number of epochs\n",
    "batch_size = 128  # Change batch size\n",
    "\n",
    "# Retrain the model\n",
    "train_loader = torch.utils.data.DataLoader(train_set, batch_size=batch_size, shuffle=True)\n",
    "val_loader = torch.utils.data.DataLoader(val_set, batch_size=batch_size, shuffle=False)\n",
    "\n",
    "device = torch.device(\"cuda\" if torch.cuda.is_available() else \"cpu\")\n",
    "print(\"Device:\", device)\n",
    "model.to(device)\n",
    "\n",
    "# Initialise an empty list to store the training loss values\n",
    "train_losses, val_losses = [], []\n",
    "\n",
    "for epoch in range(epochs):\n",
    "    model.train()\n",
    "    running_loss = 0.0\n",
    "    for i, data in enumerate(train_loader, 0):\n",
    "        inputs, labels = data[0].to(device), data[1].to(device)\n",
    "        optimizer.zero_grad()\n",
    "        outputs = model(inputs)\n",
    "        loss = criterion(outputs, labels)\n",
    "        loss.backward()\n",
    "        optimizer.step()\n",
    "        running_loss += loss.item()\n",
    "    train_losses.append(running_loss / len(train_loader))\n",
    "    \n",
    "    # Evaluate on validation set\n",
    "    model.eval()\n",
    "    val_loss = 0.0\n",
    "    with torch.no_grad():\n",
    "        for data in val_loader:\n",
    "            inputs, labels = data[0].to(device), data[1].to(device)\n",
    "            outputs = model(inputs)\n",
    "            val_loss += criterion(outputs, labels).item()\n",
    "    val_losses.append(val_loss / len(val_loader))\n",
    "    \n",
    "    # Print training and validation loss for each epoch\n",
    "    print(f'Epoch [{epoch + 1}/{epochs}], '\n",
    "          f'Training Loss: {train_losses[-1]:.4f}, '\n",
    "          f'Validation Loss: {val_losses[-1]:.4f}')\n",
    "\n",
    "print('Finish Training')"
   ]
  },
  {
   "cell_type": "code",
   "execution_count": 28,
   "metadata": {},
   "outputs": [
    {
     "data": {
      "image/png": "[encoded data removed]",
      "text/plain": [
       "<Figure size 640x480 with 1 Axes>"
      ]
     },
     "metadata": {},
     "output_type": "display_data"
    }
   ],
   "source": [
    "# Plot training and validation loss\n",
    "plt.plot(train_losses, label='Training Loss')\n",
    "plt.plot(val_losses, label='Validation Loss')\n",
    "plt.xlabel('Epoch')\n",
    "plt.ylabel('Loss')\n",
    "plt.legend()\n",
    "plt.title('Training and Validation Loss after Tweaking Hyperparameters')\n",
    "plt.show()"
   ]
  },
  {
   "cell_type": "markdown",
   "metadata": {},
   "source": [
    "Model performs better after tweaking but still overfitting"
   ]
  },
  {
   "cell_type": "markdown",
   "metadata": {},
   "source": [
    "## Saving your model\n",
    "Using `torch.save`, save your model for future loading."
   ]
  },
  {
   "cell_type": "code",
   "execution_count": 29,
   "metadata": {},
   "outputs": [],
   "source": [
    "# Save the trained model\n",
    "torch.save(model.state_dict(), 'mnist_cnn_model.pth')"
   ]
  },
  {
   "cell_type": "code",
   "execution_count": null,
   "metadata": {},
   "outputs": [],
   "source": []
  }
 ],
 "metadata": {
  "kernelspec": {
   "display_name": "Python 3",
   "language": "python",
   "name": "python3"
  },
  "language_info": {
   "codemirror_mode": {
    "name": "ipython",
    "version": 3
   },
   "file_extension": ".py",
   "mimetype": "text/x-python",
   "name": "python",
   "nbconvert_exporter": "python",
   "pygments_lexer": "ipython3",
   "version": "3.7.1"
  }
 },
 "nbformat": 4,
 "nbformat_minor": 4
}
