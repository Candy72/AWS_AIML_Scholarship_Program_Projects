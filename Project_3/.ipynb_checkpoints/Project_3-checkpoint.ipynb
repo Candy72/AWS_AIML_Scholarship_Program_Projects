{
 "cells": [
  {
   "cell_type": "code",
   "execution_count": null,
   "id": "047a127e-cab3-430c-ba70-cc2c64e7200f",
   "metadata": {},
   "outputs": [],
   "source": []
  }
 ],
 "metadata": {
  "kernelspec": {
   "display_name": "Python 3 (ipykernel)",
   "language": "python",
   "name": "python3"
  },
  "language_info": {
   "codemirror_mode": {
    "name": "ipython",
    "version": 3
   },
   "file_extension": ".py",
   "mimetype": "text/x-python",
   "name": "python",
   "nbconvert_exporter": "python",
   "pygments_lexer": "ipython3",
   "version": "3.10.13"
  }
 },
 "nbformat": 4,
 "nbformat_minor": 5
}
